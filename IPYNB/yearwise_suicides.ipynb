{
 "cells": [
  {
   "cell_type": "code",
   "execution_count": null,
   "metadata": {},
   "outputs": [],
   "source": [
    "import pandas as pd\n",
    "import numpy as np\n",
    "df = pd.read_excel('2001PP.xlsx')\n",
    "df.head()"
   ]
  },
  {
   "cell_type": "code",
   "execution_count": 2,
   "metadata": {},
   "outputs": [],
   "source": [
    "label = df['STATE/UT']\n",
    "def plot_bar_x():\n",
    "    # this is for plotting purpose\n",
    "    index = np.arange(len(label))\n",
    "    plt.bar(index, df['Grand Total'])\n",
    "    plt.xlabel('State', fontsize=5)\n",
    "    plt.ylabel('No of Suicides', fontsize=5)\n",
    "    plt.xticks(index, label, fontsize=5, rotation=30)\n",
    "    plt.title('Year wise suicides')\n",
    "    plt.show()"
   ]
  },
  {
   "cell_type": "code",
   "execution_count": 3,
   "metadata": {},
   "outputs": [],
   "source": [
    "ax = df.plot.bar(rot=0)"
   ]
  },
  {
   "cell_type": "code",
   "execution_count": 4,
   "metadata": {},
   "outputs": [
    {
     "data": {
      "text/plain": [
       "STATE/UT                     0\n",
       "Year                         0\n",
       "CAUSE                        0\n",
       "Male upto 14 years           0\n",
       "Male 15-29 years             0\n",
       "Male 30-44 years             0\n",
       "Male 45-59 years             0\n",
       "Male 60 years and above      0\n",
       "Total Male                   0\n",
       "Female upto 14 years         0\n",
       "Female 15-29 years           0\n",
       "Female 30-44 years           0\n",
       "Female 45-59 years           0\n",
       "Female 60 years and above    0\n",
       "Total Female                 0\n",
       "Grand Total                  0\n",
       "dtype: int64"
      ]
     },
     "execution_count": 4,
     "metadata": {},
     "output_type": "execute_result"
    }
   ],
   "source": [
    "df.isna().sum()"
   ]
  },
  {
   "cell_type": "code",
   "execution_count": 5,
   "metadata": {},
   "outputs": [
    {
     "data": {
      "text/html": [
       "<div>\n",
       "<style scoped>\n",
       "    .dataframe tbody tr th:only-of-type {\n",
       "        vertical-align: middle;\n",
       "    }\n",
       "\n",
       "    .dataframe tbody tr th {\n",
       "        vertical-align: top;\n",
       "    }\n",
       "\n",
       "    .dataframe thead th {\n",
       "        text-align: right;\n",
       "    }\n",
       "</style>\n",
       "<table border=\"1\" class=\"dataframe\">\n",
       "  <thead>\n",
       "    <tr style=\"text-align: right;\">\n",
       "      <th></th>\n",
       "      <th>STATE/UT</th>\n",
       "      <th>Year</th>\n",
       "      <th>CAUSE</th>\n",
       "      <th>Male upto 14 years</th>\n",
       "      <th>Male 15-29 years</th>\n",
       "      <th>Male 30-44 years</th>\n",
       "      <th>Male 45-59 years</th>\n",
       "      <th>Male 60 years and above</th>\n",
       "      <th>Total Male</th>\n",
       "      <th>Female upto 14 years</th>\n",
       "      <th>Female 15-29 years</th>\n",
       "      <th>Female 30-44 years</th>\n",
       "      <th>Female 45-59 years</th>\n",
       "      <th>Female 60 years and above</th>\n",
       "      <th>Total Female</th>\n",
       "      <th>Grand Total</th>\n",
       "    </tr>\n",
       "  </thead>\n",
       "  <tbody>\n",
       "    <tr>\n",
       "      <td>0</td>\n",
       "      <td>ANDHRA PRADESH</td>\n",
       "      <td>2001</td>\n",
       "      <td>House Wife</td>\n",
       "      <td>0</td>\n",
       "      <td>0</td>\n",
       "      <td>0</td>\n",
       "      <td>0</td>\n",
       "      <td>0</td>\n",
       "      <td>0</td>\n",
       "      <td>0</td>\n",
       "      <td>1132</td>\n",
       "      <td>811</td>\n",
       "      <td>397</td>\n",
       "      <td>104</td>\n",
       "      <td>2444</td>\n",
       "      <td>2444</td>\n",
       "    </tr>\n",
       "    <tr>\n",
       "      <td>1</td>\n",
       "      <td>ANDHRA PRADESH</td>\n",
       "      <td>2001</td>\n",
       "      <td>Service (Government)</td>\n",
       "      <td>0</td>\n",
       "      <td>34</td>\n",
       "      <td>57</td>\n",
       "      <td>44</td>\n",
       "      <td>0</td>\n",
       "      <td>135</td>\n",
       "      <td>0</td>\n",
       "      <td>23</td>\n",
       "      <td>22</td>\n",
       "      <td>9</td>\n",
       "      <td>7</td>\n",
       "      <td>61</td>\n",
       "      <td>196</td>\n",
       "    </tr>\n",
       "    <tr>\n",
       "      <td>2</td>\n",
       "      <td>ANDHRA PRADESH</td>\n",
       "      <td>2001</td>\n",
       "      <td>Service (Private)</td>\n",
       "      <td>1</td>\n",
       "      <td>250</td>\n",
       "      <td>275</td>\n",
       "      <td>138</td>\n",
       "      <td>10</td>\n",
       "      <td>674</td>\n",
       "      <td>5</td>\n",
       "      <td>43</td>\n",
       "      <td>24</td>\n",
       "      <td>28</td>\n",
       "      <td>6</td>\n",
       "      <td>106</td>\n",
       "      <td>780</td>\n",
       "    </tr>\n",
       "    <tr>\n",
       "      <td>3</td>\n",
       "      <td>ANDHRA PRADESH</td>\n",
       "      <td>2001</td>\n",
       "      <td>Public Sector Undertaking</td>\n",
       "      <td>0</td>\n",
       "      <td>32</td>\n",
       "      <td>36</td>\n",
       "      <td>29</td>\n",
       "      <td>13</td>\n",
       "      <td>110</td>\n",
       "      <td>0</td>\n",
       "      <td>4</td>\n",
       "      <td>5</td>\n",
       "      <td>1</td>\n",
       "      <td>0</td>\n",
       "      <td>10</td>\n",
       "      <td>120</td>\n",
       "    </tr>\n",
       "    <tr>\n",
       "      <td>4</td>\n",
       "      <td>ANDHRA PRADESH</td>\n",
       "      <td>2001</td>\n",
       "      <td>Student</td>\n",
       "      <td>56</td>\n",
       "      <td>202</td>\n",
       "      <td>19</td>\n",
       "      <td>18</td>\n",
       "      <td>0</td>\n",
       "      <td>295</td>\n",
       "      <td>46</td>\n",
       "      <td>115</td>\n",
       "      <td>5</td>\n",
       "      <td>9</td>\n",
       "      <td>0</td>\n",
       "      <td>175</td>\n",
       "      <td>470</td>\n",
       "    </tr>\n",
       "  </tbody>\n",
       "</table>\n",
       "</div>"
      ],
      "text/plain": [
       "         STATE/UT  Year                      CAUSE  Male upto 14 years  \\\n",
       "0  ANDHRA PRADESH  2001                 House Wife                   0   \n",
       "1  ANDHRA PRADESH  2001       Service (Government)                   0   \n",
       "2  ANDHRA PRADESH  2001          Service (Private)                   1   \n",
       "3  ANDHRA PRADESH  2001  Public Sector Undertaking                   0   \n",
       "4  ANDHRA PRADESH  2001                    Student                  56   \n",
       "\n",
       "   Male 15-29 years  Male 30-44 years  Male 45-59 years  \\\n",
       "0                 0                 0                 0   \n",
       "1                34                57                44   \n",
       "2               250               275               138   \n",
       "3                32                36                29   \n",
       "4               202                19                18   \n",
       "\n",
       "   Male 60 years and above  Total Male  Female upto 14 years  \\\n",
       "0                        0           0                     0   \n",
       "1                        0         135                     0   \n",
       "2                       10         674                     5   \n",
       "3                       13         110                     0   \n",
       "4                        0         295                    46   \n",
       "\n",
       "   Female 15-29 years  Female 30-44 years  Female 45-59 years  \\\n",
       "0                1132                 811                 397   \n",
       "1                  23                  22                   9   \n",
       "2                  43                  24                  28   \n",
       "3                   4                   5                   1   \n",
       "4                 115                   5                   9   \n",
       "\n",
       "   Female 60 years and above  Total Female  Grand Total  \n",
       "0                        104          2444         2444  \n",
       "1                          7            61          196  \n",
       "2                          6           106          780  \n",
       "3                          0            10          120  \n",
       "4                          0           175          470  "
      ]
     },
     "execution_count": 5,
     "metadata": {},
     "output_type": "execute_result"
    }
   ],
   "source": [
    "df.head()"
   ]
  },
  {
   "cell_type": "code",
   "execution_count": 6,
   "metadata": {},
   "outputs": [],
   "source": [
    "df1 = df.groupby('STATE/UT')"
   ]
  },
  {
   "cell_type": "code",
   "execution_count": 7,
   "metadata": {},
   "outputs": [],
   "source": [
    "df1 = df1.sum()"
   ]
  },
  {
   "cell_type": "code",
   "execution_count": 8,
   "metadata": {},
   "outputs": [
    {
     "data": {
      "text/html": [
       "<div>\n",
       "<style scoped>\n",
       "    .dataframe tbody tr th:only-of-type {\n",
       "        vertical-align: middle;\n",
       "    }\n",
       "\n",
       "    .dataframe tbody tr th {\n",
       "        vertical-align: top;\n",
       "    }\n",
       "\n",
       "    .dataframe thead th {\n",
       "        text-align: right;\n",
       "    }\n",
       "</style>\n",
       "<table border=\"1\" class=\"dataframe\">\n",
       "  <thead>\n",
       "    <tr style=\"text-align: right;\">\n",
       "      <th></th>\n",
       "      <th>Year</th>\n",
       "      <th>Male upto 14 years</th>\n",
       "      <th>Male 15-29 years</th>\n",
       "      <th>Male 30-44 years</th>\n",
       "      <th>Male 45-59 years</th>\n",
       "      <th>Male 60 years and above</th>\n",
       "      <th>Total Male</th>\n",
       "      <th>Female upto 14 years</th>\n",
       "      <th>Female 15-29 years</th>\n",
       "      <th>Female 30-44 years</th>\n",
       "      <th>Female 45-59 years</th>\n",
       "      <th>Female 60 years and above</th>\n",
       "      <th>Total Female</th>\n",
       "      <th>Grand Total</th>\n",
       "    </tr>\n",
       "    <tr>\n",
       "      <th>STATE/UT</th>\n",
       "      <th></th>\n",
       "      <th></th>\n",
       "      <th></th>\n",
       "      <th></th>\n",
       "      <th></th>\n",
       "      <th></th>\n",
       "      <th></th>\n",
       "      <th></th>\n",
       "      <th></th>\n",
       "      <th></th>\n",
       "      <th></th>\n",
       "      <th></th>\n",
       "      <th></th>\n",
       "      <th></th>\n",
       "    </tr>\n",
       "  </thead>\n",
       "  <tbody>\n",
       "    <tr>\n",
       "      <td>A &amp; N ISLANDS</td>\n",
       "      <td>30015</td>\n",
       "      <td>5</td>\n",
       "      <td>73</td>\n",
       "      <td>69</td>\n",
       "      <td>63</td>\n",
       "      <td>22</td>\n",
       "      <td>232</td>\n",
       "      <td>4</td>\n",
       "      <td>63</td>\n",
       "      <td>18</td>\n",
       "      <td>10</td>\n",
       "      <td>6</td>\n",
       "      <td>101</td>\n",
       "      <td>333</td>\n",
       "    </tr>\n",
       "    <tr>\n",
       "      <td>ANDHRA PRADESH</td>\n",
       "      <td>30015</td>\n",
       "      <td>430</td>\n",
       "      <td>5338</td>\n",
       "      <td>6012</td>\n",
       "      <td>4178</td>\n",
       "      <td>955</td>\n",
       "      <td>16913</td>\n",
       "      <td>450</td>\n",
       "      <td>4135</td>\n",
       "      <td>2673</td>\n",
       "      <td>1569</td>\n",
       "      <td>435</td>\n",
       "      <td>9262</td>\n",
       "      <td>26175</td>\n",
       "    </tr>\n",
       "    <tr>\n",
       "      <td>ARUNACHAL PRADESH</td>\n",
       "      <td>30015</td>\n",
       "      <td>6</td>\n",
       "      <td>68</td>\n",
       "      <td>113</td>\n",
       "      <td>32</td>\n",
       "      <td>3</td>\n",
       "      <td>222</td>\n",
       "      <td>4</td>\n",
       "      <td>56</td>\n",
       "      <td>22</td>\n",
       "      <td>2</td>\n",
       "      <td>0</td>\n",
       "      <td>84</td>\n",
       "      <td>306</td>\n",
       "    </tr>\n",
       "    <tr>\n",
       "      <td>ASSAM</td>\n",
       "      <td>30015</td>\n",
       "      <td>71</td>\n",
       "      <td>1566</td>\n",
       "      <td>1862</td>\n",
       "      <td>1124</td>\n",
       "      <td>156</td>\n",
       "      <td>4779</td>\n",
       "      <td>43</td>\n",
       "      <td>875</td>\n",
       "      <td>611</td>\n",
       "      <td>269</td>\n",
       "      <td>34</td>\n",
       "      <td>1832</td>\n",
       "      <td>6611</td>\n",
       "    </tr>\n",
       "    <tr>\n",
       "      <td>BIHAR</td>\n",
       "      <td>30015</td>\n",
       "      <td>19</td>\n",
       "      <td>319</td>\n",
       "      <td>293</td>\n",
       "      <td>75</td>\n",
       "      <td>35</td>\n",
       "      <td>741</td>\n",
       "      <td>29</td>\n",
       "      <td>321</td>\n",
       "      <td>196</td>\n",
       "      <td>55</td>\n",
       "      <td>16</td>\n",
       "      <td>617</td>\n",
       "      <td>1358</td>\n",
       "    </tr>\n",
       "  </tbody>\n",
       "</table>\n",
       "</div>"
      ],
      "text/plain": [
       "                    Year  Male upto 14 years  Male 15-29 years  \\\n",
       "STATE/UT                                                         \n",
       "A & N ISLANDS      30015                   5                73   \n",
       "ANDHRA PRADESH     30015                 430              5338   \n",
       "ARUNACHAL PRADESH  30015                   6                68   \n",
       "ASSAM              30015                  71              1566   \n",
       "BIHAR              30015                  19               319   \n",
       "\n",
       "                   Male 30-44 years  Male 45-59 years  \\\n",
       "STATE/UT                                                \n",
       "A & N ISLANDS                    69                63   \n",
       "ANDHRA PRADESH                 6012              4178   \n",
       "ARUNACHAL PRADESH               113                32   \n",
       "ASSAM                          1862              1124   \n",
       "BIHAR                           293                75   \n",
       "\n",
       "                   Male 60 years and above  Total Male  Female upto 14 years  \\\n",
       "STATE/UT                                                                       \n",
       "A & N ISLANDS                           22         232                     4   \n",
       "ANDHRA PRADESH                         955       16913                   450   \n",
       "ARUNACHAL PRADESH                        3         222                     4   \n",
       "ASSAM                                  156        4779                    43   \n",
       "BIHAR                                   35         741                    29   \n",
       "\n",
       "                   Female 15-29 years  Female 30-44 years  Female 45-59 years  \\\n",
       "STATE/UT                                                                        \n",
       "A & N ISLANDS                      63                  18                  10   \n",
       "ANDHRA PRADESH                   4135                2673                1569   \n",
       "ARUNACHAL PRADESH                  56                  22                   2   \n",
       "ASSAM                             875                 611                 269   \n",
       "BIHAR                             321                 196                  55   \n",
       "\n",
       "                   Female 60 years and above  Total Female  Grand Total  \n",
       "STATE/UT                                                                 \n",
       "A & N ISLANDS                              6           101          333  \n",
       "ANDHRA PRADESH                           435          9262        26175  \n",
       "ARUNACHAL PRADESH                          0            84          306  \n",
       "ASSAM                                     34          1832         6611  \n",
       "BIHAR                                     16           617         1358  "
      ]
     },
     "execution_count": 8,
     "metadata": {},
     "output_type": "execute_result"
    }
   ],
   "source": [
    "df1.head()"
   ]
  },
  {
   "cell_type": "code",
   "execution_count": 9,
   "metadata": {},
   "outputs": [
    {
     "data": {
      "text/plain": [
       "<matplotlib.axes._subplots.AxesSubplot at 0x10d1b608>"
      ]
     },
     "execution_count": 9,
     "metadata": {},
     "output_type": "execute_result"
    },
    {
     "data": {
      "image/png": "[encoded data removed]",
      "text/plain": [
       "<Figure size 432x288 with 1 Axes>"
      ]
     },
     "metadata": {
      "needs_background": "light"
     },
     "output_type": "display_data"
    }
   ],
   "source": [
    "df1.plot(x='Year', y='Grand Total', kind=\"bar\")"
   ]
  },
  {
   "cell_type": "code",
   "execution_count": 10,
   "metadata": {},
   "outputs": [
    {
     "name": "stdout",
     "output_type": "stream",
     "text": [
      "<class 'pandas.core.frame.DataFrame'>\n",
      "Index: 38 entries, A & N ISLANDS to WEST BENGAL\n",
      "Data columns (total 14 columns):\n",
      "Year                         38 non-null int64\n",
      "Male upto 14 years           38 non-null int64\n",
      "Male 15-29 years             38 non-null int64\n",
      "Male 30-44 years             38 non-null int64\n",
      "Male 45-59 years             38 non-null int64\n",
      "Male 60 years and above      38 non-null int64\n",
      "Total Male                   38 non-null int64\n",
      "Female upto 14 years         38 non-null int64\n",
      "Female 15-29 years           38 non-null int64\n",
      "Female 30-44 years           38 non-null int64\n",
      "Female 45-59 years           38 non-null int64\n",
      "Female 60 years and above    38 non-null int64\n",
      "Total Female                 38 non-null int64\n",
      "Grand Total                  38 non-null int64\n",
      "dtypes: int64(14)\n",
      "memory usage: 4.5+ KB\n"
     ]
    }
   ],
   "source": [
    "df1.info()"
   ]
  },
  {
   "cell_type": "code",
   "execution_count": null,
   "metadata": {},
   "outputs": [],
   "source": []
  },
  {
   "cell_type": "code",
   "execution_count": 11,
   "metadata": {},
   "outputs": [
    {
     "data": {
      "text/html": [
       "<div>\n",
       "<style scoped>\n",
       "    .dataframe tbody tr th:only-of-type {\n",
       "        vertical-align: middle;\n",
       "    }\n",
       "\n",
       "    .dataframe tbody tr th {\n",
       "        vertical-align: top;\n",
       "    }\n",
       "\n",
       "    .dataframe thead th {\n",
       "        text-align: right;\n",
       "    }\n",
       "</style>\n",
       "<table border=\"1\" class=\"dataframe\">\n",
       "  <thead>\n",
       "    <tr style=\"text-align: right;\">\n",
       "      <th></th>\n",
       "      <th>STATE/UT</th>\n",
       "      <th>Year</th>\n",
       "      <th>CAUSE</th>\n",
       "      <th>Male upto 14 years</th>\n",
       "      <th>Male 15-29 years</th>\n",
       "      <th>Male 30-44 years</th>\n",
       "      <th>Male 45-59 years</th>\n",
       "      <th>Male 60 years and above</th>\n",
       "      <th>Total Male</th>\n",
       "      <th>Female upto 14 years</th>\n",
       "      <th>Female 15-29 years</th>\n",
       "      <th>Female 30-44 years</th>\n",
       "      <th>Female 45-59 years</th>\n",
       "      <th>Female 60 years and above</th>\n",
       "      <th>Total Female</th>\n",
       "      <th>Grand Total</th>\n",
       "    </tr>\n",
       "  </thead>\n",
       "  <tbody>\n",
       "    <tr>\n",
       "      <td>0</td>\n",
       "      <td>ANDHRA PRADESH</td>\n",
       "      <td>2001</td>\n",
       "      <td>House Wife</td>\n",
       "      <td>0</td>\n",
       "      <td>0</td>\n",
       "      <td>0</td>\n",
       "      <td>0</td>\n",
       "      <td>0</td>\n",
       "      <td>0</td>\n",
       "      <td>0</td>\n",
       "      <td>1132</td>\n",
       "      <td>811</td>\n",
       "      <td>397</td>\n",
       "      <td>104</td>\n",
       "      <td>2444</td>\n",
       "      <td>2444</td>\n",
       "    </tr>\n",
       "    <tr>\n",
       "      <td>1</td>\n",
       "      <td>ANDHRA PRADESH</td>\n",
       "      <td>2001</td>\n",
       "      <td>Service (Government)</td>\n",
       "      <td>0</td>\n",
       "      <td>34</td>\n",
       "      <td>57</td>\n",
       "      <td>44</td>\n",
       "      <td>0</td>\n",
       "      <td>135</td>\n",
       "      <td>0</td>\n",
       "      <td>23</td>\n",
       "      <td>22</td>\n",
       "      <td>9</td>\n",
       "      <td>7</td>\n",
       "      <td>61</td>\n",
       "      <td>196</td>\n",
       "    </tr>\n",
       "    <tr>\n",
       "      <td>2</td>\n",
       "      <td>ANDHRA PRADESH</td>\n",
       "      <td>2001</td>\n",
       "      <td>Service (Private)</td>\n",
       "      <td>1</td>\n",
       "      <td>250</td>\n",
       "      <td>275</td>\n",
       "      <td>138</td>\n",
       "      <td>10</td>\n",
       "      <td>674</td>\n",
       "      <td>5</td>\n",
       "      <td>43</td>\n",
       "      <td>24</td>\n",
       "      <td>28</td>\n",
       "      <td>6</td>\n",
       "      <td>106</td>\n",
       "      <td>780</td>\n",
       "    </tr>\n",
       "    <tr>\n",
       "      <td>3</td>\n",
       "      <td>ANDHRA PRADESH</td>\n",
       "      <td>2001</td>\n",
       "      <td>Public Sector Undertaking</td>\n",
       "      <td>0</td>\n",
       "      <td>32</td>\n",
       "      <td>36</td>\n",
       "      <td>29</td>\n",
       "      <td>13</td>\n",
       "      <td>110</td>\n",
       "      <td>0</td>\n",
       "      <td>4</td>\n",
       "      <td>5</td>\n",
       "      <td>1</td>\n",
       "      <td>0</td>\n",
       "      <td>10</td>\n",
       "      <td>120</td>\n",
       "    </tr>\n",
       "    <tr>\n",
       "      <td>4</td>\n",
       "      <td>ANDHRA PRADESH</td>\n",
       "      <td>2001</td>\n",
       "      <td>Student</td>\n",
       "      <td>56</td>\n",
       "      <td>202</td>\n",
       "      <td>19</td>\n",
       "      <td>18</td>\n",
       "      <td>0</td>\n",
       "      <td>295</td>\n",
       "      <td>46</td>\n",
       "      <td>115</td>\n",
       "      <td>5</td>\n",
       "      <td>9</td>\n",
       "      <td>0</td>\n",
       "      <td>175</td>\n",
       "      <td>470</td>\n",
       "    </tr>\n",
       "  </tbody>\n",
       "</table>\n",
       "</div>"
      ],
      "text/plain": [
       "         STATE/UT  Year                      CAUSE  Male upto 14 years  \\\n",
       "0  ANDHRA PRADESH  2001                 House Wife                   0   \n",
       "1  ANDHRA PRADESH  2001       Service (Government)                   0   \n",
       "2  ANDHRA PRADESH  2001          Service (Private)                   1   \n",
       "3  ANDHRA PRADESH  2001  Public Sector Undertaking                   0   \n",
       "4  ANDHRA PRADESH  2001                    Student                  56   \n",
       "\n",
       "   Male 15-29 years  Male 30-44 years  Male 45-59 years  \\\n",
       "0                 0                 0                 0   \n",
       "1                34                57                44   \n",
       "2               250               275               138   \n",
       "3                32                36                29   \n",
       "4               202                19                18   \n",
       "\n",
       "   Male 60 years and above  Total Male  Female upto 14 years  \\\n",
       "0                        0           0                     0   \n",
       "1                        0         135                     0   \n",
       "2                       10         674                     5   \n",
       "3                       13         110                     0   \n",
       "4                        0         295                    46   \n",
       "\n",
       "   Female 15-29 years  Female 30-44 years  Female 45-59 years  \\\n",
       "0                1132                 811                 397   \n",
       "1                  23                  22                   9   \n",
       "2                  43                  24                  28   \n",
       "3                   4                   5                   1   \n",
       "4                 115                   5                   9   \n",
       "\n",
       "   Female 60 years and above  Total Female  Grand Total  \n",
       "0                        104          2444         2444  \n",
       "1                          7            61          196  \n",
       "2                          6           106          780  \n",
       "3                          0            10          120  \n",
       "4                          0           175          470  "
      ]
     },
     "execution_count": 11,
     "metadata": {},
     "output_type": "execute_result"
    }
   ],
   "source": [
    "df1 = pd.read_excel('2001PP.xlsx')\n",
    "df1.head()"
   ]
  },
  {
   "cell_type": "code",
   "execution_count": 12,
   "metadata": {},
   "outputs": [
    {
     "data": {
      "text/plain": [
       "(570, 16)"
      ]
     },
     "execution_count": 12,
     "metadata": {},
     "output_type": "execute_result"
    }
   ],
   "source": [
    "df1.shape"
   ]
  },
  {
   "cell_type": "code",
   "execution_count": 13,
   "metadata": {},
   "outputs": [],
   "source": [
    "df2 = pd.read_excel('2002PP.xlsx')\n",
    "df3 = pd.read_excel('2003PP.xlsx')\n",
    "df4 = pd.read_excel('2004PP.xlsx')\n",
    "df5 = pd.read_csv('2005PP.csv')\n",
    "df6 = pd.read_csv('2006PP.csv')\n",
    "df7 = pd.read_csv('2007PP.csv')\n",
    "df8 = pd.read_csv('2008PP.csv')\n",
    "df9 = pd.read_excel('2009PP.xlsx')\n",
    "df10 = pd.read_csv('2010PP.csv')\n",
    "df11 = pd.read_excel('2011PP.xlsx')\n",
    "df12 = pd.read_excel('2012PP.xlsx')\n",
    "df13 = pd.read_csv('2013PP.csv')\n"
   ]
  },
  {
   "cell_type": "code",
   "execution_count": 14,
   "metadata": {},
   "outputs": [
    {
     "ename": "UnicodeDecodeError",
     "evalue": "'utf-8' codec can't decode byte 0x96 in position 18: invalid start byte",
     "output_type": "error",
     "traceback": [
      "\u001b[1;31m---------------------------------------------------------------------------\u001b[0m",
      "\u001b[1;31mUnicodeDecodeError\u001b[0m                        Traceback (most recent call last)",
      "\u001b[1;32m<ipython-input-14-e920c9ea4b39>\u001b[0m in \u001b[0;36m<module>\u001b[1;34m\u001b[0m\n\u001b[1;32m----> 1\u001b[1;33m \u001b[0mdf14\u001b[0m \u001b[1;33m=\u001b[0m \u001b[0mpd\u001b[0m\u001b[1;33m.\u001b[0m\u001b[0mread_csv\u001b[0m\u001b[1;33m(\u001b[0m\u001b[1;34m'2014.csv'\u001b[0m\u001b[1;33m)\u001b[0m\u001b[1;33m\u001b[0m\u001b[1;33m\u001b[0m\u001b[0m\n\u001b[0m",
      "\u001b[1;32mC:\\ProgramData\\Anaconda3\\lib\\site-packages\\pandas\\io\\parsers.py\u001b[0m in \u001b[0;36mparser_f\u001b[1;34m(filepath_or_buffer, sep, delimiter, header, names, index_col, usecols, squeeze, prefix, mangle_dupe_cols, dtype, engine, converters, true_values, false_values, skipinitialspace, skiprows, skipfooter, nrows, na_values, keep_default_na, na_filter, verbose, skip_blank_lines, parse_dates, infer_datetime_format, keep_date_col, date_parser, dayfirst, cache_dates, iterator, chunksize, compression, thousands, decimal, lineterminator, quotechar, quoting, doublequote, escapechar, comment, encoding, dialect, error_bad_lines, warn_bad_lines, delim_whitespace, low_memory, memory_map, float_precision)\u001b[0m\n\u001b[0;32m    683\u001b[0m         )\n\u001b[0;32m    684\u001b[0m \u001b[1;33m\u001b[0m\u001b[0m\n\u001b[1;32m--> 685\u001b[1;33m         \u001b[1;32mreturn\u001b[0m \u001b[0m_read\u001b[0m\u001b[1;33m(\u001b[0m\u001b[0mfilepath_or_buffer\u001b[0m\u001b[1;33m,\u001b[0m \u001b[0mkwds\u001b[0m\u001b[1;33m)\u001b[0m\u001b[1;33m\u001b[0m\u001b[1;33m\u001b[0m\u001b[0m\n\u001b[0m\u001b[0;32m    686\u001b[0m \u001b[1;33m\u001b[0m\u001b[0m\n\u001b[0;32m    687\u001b[0m     \u001b[0mparser_f\u001b[0m\u001b[1;33m.\u001b[0m\u001b[0m__name__\u001b[0m \u001b[1;33m=\u001b[0m \u001b[0mname\u001b[0m\u001b[1;33m\u001b[0m\u001b[1;33m\u001b[0m\u001b[0m\n",
      "\u001b[1;32mC:\\ProgramData\\Anaconda3\\lib\\site-packages\\pandas\\io\\parsers.py\u001b[0m in \u001b[0;36m_read\u001b[1;34m(filepath_or_buffer, kwds)\u001b[0m\n\u001b[0;32m    455\u001b[0m \u001b[1;33m\u001b[0m\u001b[0m\n\u001b[0;32m    456\u001b[0m     \u001b[1;31m# Create the parser.\u001b[0m\u001b[1;33m\u001b[0m\u001b[1;33m\u001b[0m\u001b[1;33m\u001b[0m\u001b[0m\n\u001b[1;32m--> 457\u001b[1;33m     \u001b[0mparser\u001b[0m \u001b[1;33m=\u001b[0m \u001b[0mTextFileReader\u001b[0m\u001b[1;33m(\u001b[0m\u001b[0mfp_or_buf\u001b[0m\u001b[1;33m,\u001b[0m \u001b[1;33m**\u001b[0m\u001b[0mkwds\u001b[0m\u001b[1;33m)\u001b[0m\u001b[1;33m\u001b[0m\u001b[1;33m\u001b[0m\u001b[0m\n\u001b[0m\u001b[0;32m    458\u001b[0m \u001b[1;33m\u001b[0m\u001b[0m\n\u001b[0;32m    459\u001b[0m     \u001b[1;32mif\u001b[0m \u001b[0mchunksize\u001b[0m \u001b[1;32mor\u001b[0m \u001b[0miterator\u001b[0m\u001b[1;33m:\u001b[0m\u001b[1;33m\u001b[0m\u001b[1;33m\u001b[0m\u001b[0m\n",
      "\u001b[1;32mC:\\ProgramData\\Anaconda3\\lib\\site-packages\\pandas\\io\\parsers.py\u001b[0m in \u001b[0;36m__init__\u001b[1;34m(self, f, engine, **kwds)\u001b[0m\n\u001b[0;32m    893\u001b[0m             \u001b[0mself\u001b[0m\u001b[1;33m.\u001b[0m\u001b[0moptions\u001b[0m\u001b[1;33m[\u001b[0m\u001b[1;34m\"has_index_names\"\u001b[0m\u001b[1;33m]\u001b[0m \u001b[1;33m=\u001b[0m \u001b[0mkwds\u001b[0m\u001b[1;33m[\u001b[0m\u001b[1;34m\"has_index_names\"\u001b[0m\u001b[1;33m]\u001b[0m\u001b[1;33m\u001b[0m\u001b[1;33m\u001b[0m\u001b[0m\n\u001b[0;32m    894\u001b[0m \u001b[1;33m\u001b[0m\u001b[0m\n\u001b[1;32m--> 895\u001b[1;33m         \u001b[0mself\u001b[0m\u001b[1;33m.\u001b[0m\u001b[0m_make_engine\u001b[0m\u001b[1;33m(\u001b[0m\u001b[0mself\u001b[0m\u001b[1;33m.\u001b[0m\u001b[0mengine\u001b[0m\u001b[1;33m)\u001b[0m\u001b[1;33m\u001b[0m\u001b[1;33m\u001b[0m\u001b[0m\n\u001b[0m\u001b[0;32m    896\u001b[0m \u001b[1;33m\u001b[0m\u001b[0m\n\u001b[0;32m    897\u001b[0m     \u001b[1;32mdef\u001b[0m \u001b[0mclose\u001b[0m\u001b[1;33m(\u001b[0m\u001b[0mself\u001b[0m\u001b[1;33m)\u001b[0m\u001b[1;33m:\u001b[0m\u001b[1;33m\u001b[0m\u001b[1;33m\u001b[0m\u001b[0m\n",
      "\u001b[1;32mC:\\ProgramData\\Anaconda3\\lib\\site-packages\\pandas\\io\\parsers.py\u001b[0m in \u001b[0;36m_make_engine\u001b[1;34m(self, engine)\u001b[0m\n\u001b[0;32m   1133\u001b[0m     \u001b[1;32mdef\u001b[0m \u001b[0m_make_engine\u001b[0m\u001b[1;33m(\u001b[0m\u001b[0mself\u001b[0m\u001b[1;33m,\u001b[0m \u001b[0mengine\u001b[0m\u001b[1;33m=\u001b[0m\u001b[1;34m\"c\"\u001b[0m\u001b[1;33m)\u001b[0m\u001b[1;33m:\u001b[0m\u001b[1;33m\u001b[0m\u001b[1;33m\u001b[0m\u001b[0m\n\u001b[0;32m   1134\u001b[0m         \u001b[1;32mif\u001b[0m \u001b[0mengine\u001b[0m \u001b[1;33m==\u001b[0m \u001b[1;34m\"c\"\u001b[0m\u001b[1;33m:\u001b[0m\u001b[1;33m\u001b[0m\u001b[1;33m\u001b[0m\u001b[0m\n\u001b[1;32m-> 1135\u001b[1;33m             \u001b[0mself\u001b[0m\u001b[1;33m.\u001b[0m\u001b[0m_engine\u001b[0m \u001b[1;33m=\u001b[0m \u001b[0mCParserWrapper\u001b[0m\u001b[1;33m(\u001b[0m\u001b[0mself\u001b[0m\u001b[1;33m.\u001b[0m\u001b[0mf\u001b[0m\u001b[1;33m,\u001b[0m \u001b[1;33m**\u001b[0m\u001b[0mself\u001b[0m\u001b[1;33m.\u001b[0m\u001b[0moptions\u001b[0m\u001b[1;33m)\u001b[0m\u001b[1;33m\u001b[0m\u001b[1;33m\u001b[0m\u001b[0m\n\u001b[0m\u001b[0;32m   1136\u001b[0m         \u001b[1;32melse\u001b[0m\u001b[1;33m:\u001b[0m\u001b[1;33m\u001b[0m\u001b[1;33m\u001b[0m\u001b[0m\n\u001b[0;32m   1137\u001b[0m             \u001b[1;32mif\u001b[0m \u001b[0mengine\u001b[0m \u001b[1;33m==\u001b[0m \u001b[1;34m\"python\"\u001b[0m\u001b[1;33m:\u001b[0m\u001b[1;33m\u001b[0m\u001b[1;33m\u001b[0m\u001b[0m\n",
      "\u001b[1;32mC:\\ProgramData\\Anaconda3\\lib\\site-packages\\pandas\\io\\parsers.py\u001b[0m in \u001b[0;36m__init__\u001b[1;34m(self, src, **kwds)\u001b[0m\n\u001b[0;32m   1915\u001b[0m         \u001b[0mkwds\u001b[0m\u001b[1;33m[\u001b[0m\u001b[1;34m\"usecols\"\u001b[0m\u001b[1;33m]\u001b[0m \u001b[1;33m=\u001b[0m \u001b[0mself\u001b[0m\u001b[1;33m.\u001b[0m\u001b[0musecols\u001b[0m\u001b[1;33m\u001b[0m\u001b[1;33m\u001b[0m\u001b[0m\n\u001b[0;32m   1916\u001b[0m \u001b[1;33m\u001b[0m\u001b[0m\n\u001b[1;32m-> 1917\u001b[1;33m         \u001b[0mself\u001b[0m\u001b[1;33m.\u001b[0m\u001b[0m_reader\u001b[0m \u001b[1;33m=\u001b[0m \u001b[0mparsers\u001b[0m\u001b[1;33m.\u001b[0m\u001b[0mTextReader\u001b[0m\u001b[1;33m(\u001b[0m\u001b[0msrc\u001b[0m\u001b[1;33m,\u001b[0m \u001b[1;33m**\u001b[0m\u001b[0mkwds\u001b[0m\u001b[1;33m)\u001b[0m\u001b[1;33m\u001b[0m\u001b[1;33m\u001b[0m\u001b[0m\n\u001b[0m\u001b[0;32m   1918\u001b[0m         \u001b[0mself\u001b[0m\u001b[1;33m.\u001b[0m\u001b[0munnamed_cols\u001b[0m \u001b[1;33m=\u001b[0m \u001b[0mself\u001b[0m\u001b[1;33m.\u001b[0m\u001b[0m_reader\u001b[0m\u001b[1;33m.\u001b[0m\u001b[0munnamed_cols\u001b[0m\u001b[1;33m\u001b[0m\u001b[1;33m\u001b[0m\u001b[0m\n\u001b[0;32m   1919\u001b[0m \u001b[1;33m\u001b[0m\u001b[0m\n",
      "\u001b[1;32mpandas\\_libs\\parsers.pyx\u001b[0m in \u001b[0;36mpandas._libs.parsers.TextReader.__cinit__\u001b[1;34m()\u001b[0m\n",
      "\u001b[1;32mpandas\\_libs\\parsers.pyx\u001b[0m in \u001b[0;36mpandas._libs.parsers.TextReader._get_header\u001b[1;34m()\u001b[0m\n",
      "\u001b[1;31mUnicodeDecodeError\u001b[0m: 'utf-8' codec can't decode byte 0x96 in position 18: invalid start byte"
     ]
    }
   ],
   "source": [
    "df14 = pd.read_csv('2014.csv')"
   ]
  },
  {
   "cell_type": "code",
   "execution_count": null,
   "metadata": {},
   "outputs": [],
   "source": [
    "df = df1.append(df2)"
   ]
  },
  {
   "cell_type": "code",
   "execution_count": 15,
   "metadata": {},
   "outputs": [],
   "source": [
    "df = df.append(df3)\n",
    "df = df.append(df4)\n",
    "df = df.append(df5)\n",
    "df = df.append(df6)\n",
    "df = df.append(df7)\n",
    "df = df.append(df8)\n",
    "df = df.append(df9)\n",
    "df = df.append(df10)\n",
    "df = df.append(df11)\n",
    "df = df.append(df12)\n",
    "df = df.append(df13)"
   ]
  },
  {
   "cell_type": "code",
   "execution_count": 16,
   "metadata": {},
   "outputs": [
    {
     "data": {
      "text/html": [
       "<div>\n",
       "<style scoped>\n",
       "    .dataframe tbody tr th:only-of-type {\n",
       "        vertical-align: middle;\n",
       "    }\n",
       "\n",
       "    .dataframe tbody tr th {\n",
       "        vertical-align: top;\n",
       "    }\n",
       "\n",
       "    .dataframe thead th {\n",
       "        text-align: right;\n",
       "    }\n",
       "</style>\n",
       "<table border=\"1\" class=\"dataframe\">\n",
       "  <thead>\n",
       "    <tr style=\"text-align: right;\">\n",
       "      <th></th>\n",
       "      <th>STATE/UT</th>\n",
       "      <th>Year</th>\n",
       "      <th>CAUSE</th>\n",
       "      <th>Male upto 14 years</th>\n",
       "      <th>Male 15-29 years</th>\n",
       "      <th>Male 30-44 years</th>\n",
       "      <th>Male 45-59 years</th>\n",
       "      <th>Male 60 years and above</th>\n",
       "      <th>Total Male</th>\n",
       "      <th>Female upto 14 years</th>\n",
       "      <th>Female 15-29 years</th>\n",
       "      <th>Female 30-44 years</th>\n",
       "      <th>Female 45-59 years</th>\n",
       "      <th>Female 60 years and above</th>\n",
       "      <th>Total Female</th>\n",
       "      <th>Grand Total</th>\n",
       "    </tr>\n",
       "  </thead>\n",
       "  <tbody>\n",
       "    <tr>\n",
       "      <td>565</td>\n",
       "      <td>PUDUCHERRY</td>\n",
       "      <td>2013</td>\n",
       "      <td>Retired Person</td>\n",
       "      <td>0</td>\n",
       "      <td>0</td>\n",
       "      <td>0</td>\n",
       "      <td>2</td>\n",
       "      <td>4</td>\n",
       "      <td>6</td>\n",
       "      <td>0</td>\n",
       "      <td>0</td>\n",
       "      <td>0</td>\n",
       "      <td>0</td>\n",
       "      <td>0</td>\n",
       "      <td>0</td>\n",
       "      <td>6</td>\n",
       "    </tr>\n",
       "    <tr>\n",
       "      <td>566</td>\n",
       "      <td>PUDUCHERRY</td>\n",
       "      <td>2013</td>\n",
       "      <td>Others (Please Specify)</td>\n",
       "      <td>0</td>\n",
       "      <td>0</td>\n",
       "      <td>0</td>\n",
       "      <td>0</td>\n",
       "      <td>0</td>\n",
       "      <td>0</td>\n",
       "      <td>0</td>\n",
       "      <td>0</td>\n",
       "      <td>0</td>\n",
       "      <td>0</td>\n",
       "      <td>0</td>\n",
       "      <td>0</td>\n",
       "      <td>0</td>\n",
       "    </tr>\n",
       "    <tr>\n",
       "      <td>567</td>\n",
       "      <td>PUDUCHERRY</td>\n",
       "      <td>2013</td>\n",
       "      <td>Total</td>\n",
       "      <td>3</td>\n",
       "      <td>84</td>\n",
       "      <td>132</td>\n",
       "      <td>150</td>\n",
       "      <td>39</td>\n",
       "      <td>408</td>\n",
       "      <td>2</td>\n",
       "      <td>66</td>\n",
       "      <td>40</td>\n",
       "      <td>12</td>\n",
       "      <td>18</td>\n",
       "      <td>138</td>\n",
       "      <td>546</td>\n",
       "    </tr>\n",
       "    <tr>\n",
       "      <td>568</td>\n",
       "      <td>PUDUCHERRY</td>\n",
       "      <td>2013</td>\n",
       "      <td>Total Salaried</td>\n",
       "      <td>0</td>\n",
       "      <td>19</td>\n",
       "      <td>17</td>\n",
       "      <td>19</td>\n",
       "      <td>4</td>\n",
       "      <td>59</td>\n",
       "      <td>0</td>\n",
       "      <td>10</td>\n",
       "      <td>2</td>\n",
       "      <td>1</td>\n",
       "      <td>0</td>\n",
       "      <td>13</td>\n",
       "      <td>72</td>\n",
       "    </tr>\n",
       "    <tr>\n",
       "      <td>569</td>\n",
       "      <td>PUDUCHERRY</td>\n",
       "      <td>2013</td>\n",
       "      <td>Total Self-employed</td>\n",
       "      <td>0</td>\n",
       "      <td>43</td>\n",
       "      <td>104</td>\n",
       "      <td>107</td>\n",
       "      <td>11</td>\n",
       "      <td>265</td>\n",
       "      <td>0</td>\n",
       "      <td>3</td>\n",
       "      <td>3</td>\n",
       "      <td>0</td>\n",
       "      <td>0</td>\n",
       "      <td>6</td>\n",
       "      <td>271</td>\n",
       "    </tr>\n",
       "  </tbody>\n",
       "</table>\n",
       "</div>"
      ],
      "text/plain": [
       "       STATE/UT  Year                    CAUSE  Male upto 14 years  \\\n",
       "565  PUDUCHERRY  2013           Retired Person                   0   \n",
       "566  PUDUCHERRY  2013  Others (Please Specify)                   0   \n",
       "567  PUDUCHERRY  2013                    Total                   3   \n",
       "568  PUDUCHERRY  2013           Total Salaried                   0   \n",
       "569  PUDUCHERRY  2013      Total Self-employed                   0   \n",
       "\n",
       "     Male 15-29 years  Male 30-44 years  Male 45-59 years  \\\n",
       "565                 0                 0                 2   \n",
       "566                 0                 0                 0   \n",
       "567                84               132               150   \n",
       "568                19                17                19   \n",
       "569                43               104               107   \n",
       "\n",
       "     Male 60 years and above  Total Male  Female upto 14 years  \\\n",
       "565                        4           6                     0   \n",
       "566                        0           0                     0   \n",
       "567                       39         408                     2   \n",
       "568                        4          59                     0   \n",
       "569                       11         265                     0   \n",
       "\n",
       "     Female 15-29 years  Female 30-44 years  Female 45-59 years  \\\n",
       "565                   0                   0                   0   \n",
       "566                   0                   0                   0   \n",
       "567                  66                  40                  12   \n",
       "568                  10                   2                   1   \n",
       "569                   3                   3                   0   \n",
       "\n",
       "     Female 60 years and above  Total Female  Grand Total  \n",
       "565                          0             0            6  \n",
       "566                          0             0            0  \n",
       "567                         18           138          546  \n",
       "568                          0            13           72  \n",
       "569                          0             6          271  "
      ]
     },
     "execution_count": 16,
     "metadata": {},
     "output_type": "execute_result"
    }
   ],
   "source": [
    "df.tail()"
   ]
  },
  {
   "cell_type": "code",
   "execution_count": null,
   "metadata": {},
   "outputs": [],
   "source": [
    "df.plot(x='Year', y='Grand Total', kind=\"bar\")"
   ]
  },
  {
   "cell_type": "code",
   "execution_count": null,
   "metadata": {},
   "outputs": [],
   "source": [
    "df.isna().sum()"
   ]
  },
  {
   "cell_type": "code",
   "execution_count": null,
   "metadata": {},
   "outputs": [],
   "source": [
    "dft = df.groupby('Year').sum()"
   ]
  },
  {
   "cell_type": "code",
   "execution_count": null,
   "metadata": {},
   "outputs": [],
   "source": [
    "dft"
   ]
  },
  {
   "cell_type": "code",
   "execution_count": null,
   "metadata": {},
   "outputs": [],
   "source": [
    "dft = dft.reset_index()"
   ]
  },
  {
   "cell_type": "code",
   "execution_count": null,
   "metadata": {},
   "outputs": [],
   "source": [
    "dft"
   ]
  },
  {
   "cell_type": "code",
   "execution_count": null,
   "metadata": {},
   "outputs": [],
   "source": [
    "dft.plot(x='Year', y='Grand Total', kind=\"bar\")"
   ]
  },
  {
   "cell_type": "code",
   "execution_count": null,
   "metadata": {},
   "outputs": [],
   "source": [
    "d14 = pd.read_csv('2014.csv')"
   ]
  },
  {
   "cell_type": "code",
   "execution_count": null,
   "metadata": {},
   "outputs": [],
   "source": [
    "df.head()"
   ]
  },
  {
   "cell_type": "code",
   "execution_count": null,
   "metadata": {},
   "outputs": [],
   "source": [
    "dft.info()"
   ]
  },
  {
   "cell_type": "code",
   "execution_count": null,
   "metadata": {},
   "outputs": [],
   "source": [
    "dft = df.groupby('CAUSE').sum()\n",
    "dft = dft.reset_index()\n",
    "dft= dft.loc[(dft['CAUSE'] != 'Total') & (dft['CAUSE'] != 'Total Salaried') & (dft['CAUSE'] != 'Total Self-employed')]"
   ]
  },
  {
   "cell_type": "code",
   "execution_count": null,
   "metadata": {},
   "outputs": [],
   "source": [
    "dft.head()"
   ]
  },
  {
   "cell_type": "code",
   "execution_count": null,
   "metadata": {},
   "outputs": [],
   "source": [
    "dft.plot(x='CAUSE', y='Grand Total', kind=\"bar\")"
   ]
  },
  {
   "cell_type": "code",
   "execution_count": null,
   "metadata": {},
   "outputs": [],
   "source": [
    "df.head()"
   ]
  },
  {
   "cell_type": "code",
   "execution_count": null,
   "metadata": {},
   "outputs": [],
   "source": [
    "dft.plot(x='Total Male', y='Grand Total', kind=\"bar\")"
   ]
  },
  {
   "cell_type": "code",
   "execution_count": null,
   "metadata": {},
   "outputs": [],
   "source": [
    "df['Total Male'].sum()"
   ]
  },
  {
   "cell_type": "code",
   "execution_count": null,
   "metadata": {},
   "outputs": [],
   "source": [
    "df['Total Female'].sum()"
   ]
  },
  {
   "cell_type": "code",
   "execution_count": null,
   "metadata": {},
   "outputs": [],
   "source": [
    "df['Grand Total'].sum()"
   ]
  },
  {
   "cell_type": "code",
   "execution_count": null,
   "metadata": {},
   "outputs": [],
   "source": [
    "import matplotlib.pyplot as plt\n",
    "slices_hours = [8134227, 3762960]\n",
    "activities = ['Male', 'Female']\n",
    "colors = ['y', 'pink']\n",
    "plt.pie(slices_hours, labels=activities, startangle=90, autopct='%.1f%%')\n",
    "plt.show()"
   ]
  },
  {
   "cell_type": "code",
   "execution_count": null,
   "metadata": {},
   "outputs": [],
   "source": [
    "df2014 = pd.read_csv('2014PP.csv',encoding = \"ISO-8859-1\", engine='python')"
   ]
  },
  {
   "cell_type": "code",
   "execution_count": null,
   "metadata": {},
   "outputs": [],
   "source": [
    "df2014.head()"
   ]
  },
  {
   "cell_type": "code",
   "execution_count": null,
   "metadata": {},
   "outputs": [],
   "source": [
    "df20141 = df20141.drop(['Transgender_below 14 years','Transgender_14 and above  below 18 years'],axis = 1)"
   ]
  },
  {
   "cell_type": "code",
   "execution_count": null,
   "metadata": {},
   "outputs": [],
   "source": [
    "df20141 = df2014.drop(['Transgender_18 and above  below 30 years','Transgender_30 and above  below 45 years','Transgender_45 and above  below 60 years','Transgender_60 years & above','Transgender_Total'],axis = 1)"
   ]
  },
  {
   "cell_type": "code",
   "execution_count": null,
   "metadata": {},
   "outputs": [],
   "source": [
    "df20141.head()"
   ]
  },
  {
   "cell_type": "code",
   "execution_count": null,
   "metadata": {},
   "outputs": [],
   "source": [
    "df20141 = df20141.rename(columns = {\"CrimeHead\":'CAUSE'})"
   ]
  },
  {
   "cell_type": "code",
   "execution_count": null,
   "metadata": {},
   "outputs": [],
   "source": [
    "df20141.head()"
   ]
  },
  {
   "cell_type": "code",
   "execution_count": null,
   "metadata": {},
   "outputs": [],
   "source": [
    "df.columns"
   ]
  },
  {
   "cell_type": "code",
   "execution_count": null,
   "metadata": {},
   "outputs": [],
   "source": [
    "df20141.drop(['Transgender_below 14 years',\n",
    "       'Transgender_14 and above  below 18 years'],axis = 1,inplace=True)"
   ]
  },
  {
   "cell_type": "code",
   "execution_count": null,
   "metadata": {},
   "outputs": [],
   "source": [
    "df20141.columns"
   ]
  },
  {
   "cell_type": "code",
   "execution_count": null,
   "metadata": {},
   "outputs": [],
   "source": [
    "df.columns"
   ]
  },
  {
   "cell_type": "code",
   "execution_count": null,
   "metadata": {},
   "outputs": [],
   "source": [
    "df20141['Male 15-29 years'] = df20141['Male_14 and above  below 18 years'] + df20141['Male_18 and above  below 30 years']"
   ]
  },
  {
   "cell_type": "code",
   "execution_count": null,
   "metadata": {},
   "outputs": [],
   "source": [
    "df20141['Female 15-29 years'] = df20141['Female_14 and above  below 18 years'] + df20141['Female_18 and above  below 30 years']"
   ]
  },
  {
   "cell_type": "code",
   "execution_count": null,
   "metadata": {},
   "outputs": [],
   "source": [
    "df20141.head()"
   ]
  },
  {
   "cell_type": "code",
   "execution_count": null,
   "metadata": {},
   "outputs": [],
   "source": [
    "df20141.drop(['Male_14 and above  below 18 years','Female_14 and above  below 18 years','Female_18 and above  below 30 years','Male_18 and above  below 30 years'],axis = 1,inplace=True)"
   ]
  },
  {
   "cell_type": "code",
   "execution_count": null,
   "metadata": {},
   "outputs": [],
   "source": [
    "df20141.head()"
   ]
  },
  {
   "cell_type": "code",
   "execution_count": null,
   "metadata": {},
   "outputs": [],
   "source": [
    "df.head()"
   ]
  },
  {
   "cell_type": "code",
   "execution_count": null,
   "metadata": {},
   "outputs": [],
   "source": [
    "df20141.columns"
   ]
  },
  {
   "cell_type": "code",
   "execution_count": null,
   "metadata": {},
   "outputs": [],
   "source": [
    "df.columns"
   ]
  },
  {
   "cell_type": "code",
   "execution_count": null,
   "metadata": {},
   "outputs": [],
   "source": [
    "df20141.columns = ['States/UTs', 'Year', 'CAUSE', 'Male upto 14 years',\n",
    "       'Male 30-44 years',\n",
    "       'Male 45-59 years', 'Male 60 years and above',\n",
    "       'Total Male', 'Female upto 14 years',\n",
    "       'Female 30-44 years',\n",
    "       'Female 45-59 years', 'Female 60 years and above',\n",
    "       'Total Female', 'Grand Total', 'Male 15-29 years',\n",
    "       'Female 15-29 years']"
   ]
  },
  {
   "cell_type": "code",
   "execution_count": null,
   "metadata": {},
   "outputs": [],
   "source": [
    "df20141"
   ]
  },
  {
   "cell_type": "code",
   "execution_count": null,
   "metadata": {},
   "outputs": [],
   "source": [
    "df.index"
   ]
  },
  {
   "cell_type": "code",
   "execution_count": null,
   "metadata": {},
   "outputs": [],
   "source": [
    "df20141.head(1)"
   ]
  },
  {
   "cell_type": "code",
   "execution_count": null,
   "metadata": {},
   "outputs": [],
   "source": [
    "df20141.columns"
   ]
  },
  {
   "cell_type": "code",
   "execution_count": null,
   "metadata": {},
   "outputs": [],
   "source": [
    "df.columns"
   ]
  },
  {
   "cell_type": "code",
   "execution_count": null,
   "metadata": {},
   "outputs": [],
   "source": [
    "df20141.columns = ['STATE/UT', 'Year', 'CAUSE', 'Male upto 14 years','Male 15-29 years', 'Male 30-44 years',\n",
    "       'Male 45-59 years', 'Male 60 years and above', 'Total Male',\n",
    "       'Female upto 14 years', 'Female 15-29 years','Female 30-44 years', 'Female 45-59 years',\n",
    "       'Female 60 years and above', 'Total Female', 'Grand Total']"
   ]
  },
  {
   "cell_type": "code",
   "execution_count": null,
   "metadata": {},
   "outputs": [],
   "source": [
    "df20141.head()"
   ]
  },
  {
   "cell_type": "code",
   "execution_count": null,
   "metadata": {},
   "outputs": [],
   "source": [
    "dfx = df20141[['STATE/UT', 'Year', 'CAUSE', 'Male upto 14 years','Male 15-29 years', 'Male 30-44 years',\n",
    "       'Male 45-59 years', 'Male 60 years and above', 'Total Male',\n",
    "       'Female upto 14 years', 'Female 15-29 years','Female 30-44 years', 'Female 45-59 years',\n",
    "       'Female 60 years and above', 'Total Female', 'Grand Total']]"
   ]
  },
  {
   "cell_type": "code",
   "execution_count": null,
   "metadata": {},
   "outputs": [],
   "source": [
    "dfx"
   ]
  },
  {
   "cell_type": "code",
   "execution_count": null,
   "metadata": {},
   "outputs": [],
   "source": [
    "dft = df.append(dfx)"
   ]
  },
  {
   "cell_type": "code",
   "execution_count": null,
   "metadata": {},
   "outputs": [],
   "source": [
    "dft"
   ]
  },
  {
   "cell_type": "code",
   "execution_count": null,
   "metadata": {},
   "outputs": [],
   "source": [
    "df = dft"
   ]
  },
  {
   "cell_type": "code",
   "execution_count": null,
   "metadata": {},
   "outputs": [],
   "source": [
    "df.head()"
   ]
  },
  {
   "cell_type": "code",
   "execution_count": null,
   "metadata": {},
   "outputs": [],
   "source": [
    "df[df['Year'] == 2014]"
   ]
  },
  {
   "cell_type": "code",
   "execution_count": 17,
   "metadata": {},
   "outputs": [
    {
     "data": {
      "text/html": [
       "<div>\n",
       "<style scoped>\n",
       "    .dataframe tbody tr th:only-of-type {\n",
       "        vertical-align: middle;\n",
       "    }\n",
       "\n",
       "    .dataframe tbody tr th {\n",
       "        vertical-align: top;\n",
       "    }\n",
       "\n",
       "    .dataframe thead th {\n",
       "        text-align: right;\n",
       "    }\n",
       "</style>\n",
       "<table border=\"1\" class=\"dataframe\">\n",
       "  <thead>\n",
       "    <tr style=\"text-align: right;\">\n",
       "      <th></th>\n",
       "      <th>STATE/UT</th>\n",
       "      <th>Year</th>\n",
       "      <th>CAUSE</th>\n",
       "      <th>Male upto 14 years</th>\n",
       "      <th>Male 15-29 years</th>\n",
       "      <th>Male 30-44 years</th>\n",
       "      <th>Male 45-59 years</th>\n",
       "      <th>Male 60 years and above</th>\n",
       "      <th>Total Male</th>\n",
       "      <th>Female upto 14 years</th>\n",
       "      <th>Female 15-29 years</th>\n",
       "      <th>Female 30-44 years</th>\n",
       "      <th>Female 45-59 years</th>\n",
       "      <th>Female 60 years and above</th>\n",
       "      <th>Total Female</th>\n",
       "      <th>Grand Total</th>\n",
       "    </tr>\n",
       "  </thead>\n",
       "  <tbody>\n",
       "    <tr>\n",
       "      <td>0</td>\n",
       "      <td>ANDHRA PRADESH</td>\n",
       "      <td>2001</td>\n",
       "      <td>House Wife</td>\n",
       "      <td>0</td>\n",
       "      <td>0</td>\n",
       "      <td>0</td>\n",
       "      <td>0</td>\n",
       "      <td>0</td>\n",
       "      <td>0</td>\n",
       "      <td>0</td>\n",
       "      <td>1132</td>\n",
       "      <td>811</td>\n",
       "      <td>397</td>\n",
       "      <td>104</td>\n",
       "      <td>2444</td>\n",
       "      <td>2444</td>\n",
       "    </tr>\n",
       "    <tr>\n",
       "      <td>1</td>\n",
       "      <td>ANDHRA PRADESH</td>\n",
       "      <td>2001</td>\n",
       "      <td>Service (Government)</td>\n",
       "      <td>0</td>\n",
       "      <td>34</td>\n",
       "      <td>57</td>\n",
       "      <td>44</td>\n",
       "      <td>0</td>\n",
       "      <td>135</td>\n",
       "      <td>0</td>\n",
       "      <td>23</td>\n",
       "      <td>22</td>\n",
       "      <td>9</td>\n",
       "      <td>7</td>\n",
       "      <td>61</td>\n",
       "      <td>196</td>\n",
       "    </tr>\n",
       "    <tr>\n",
       "      <td>2</td>\n",
       "      <td>ANDHRA PRADESH</td>\n",
       "      <td>2001</td>\n",
       "      <td>Service (Private)</td>\n",
       "      <td>1</td>\n",
       "      <td>250</td>\n",
       "      <td>275</td>\n",
       "      <td>138</td>\n",
       "      <td>10</td>\n",
       "      <td>674</td>\n",
       "      <td>5</td>\n",
       "      <td>43</td>\n",
       "      <td>24</td>\n",
       "      <td>28</td>\n",
       "      <td>6</td>\n",
       "      <td>106</td>\n",
       "      <td>780</td>\n",
       "    </tr>\n",
       "    <tr>\n",
       "      <td>3</td>\n",
       "      <td>ANDHRA PRADESH</td>\n",
       "      <td>2001</td>\n",
       "      <td>Public Sector Undertaking</td>\n",
       "      <td>0</td>\n",
       "      <td>32</td>\n",
       "      <td>36</td>\n",
       "      <td>29</td>\n",
       "      <td>13</td>\n",
       "      <td>110</td>\n",
       "      <td>0</td>\n",
       "      <td>4</td>\n",
       "      <td>5</td>\n",
       "      <td>1</td>\n",
       "      <td>0</td>\n",
       "      <td>10</td>\n",
       "      <td>120</td>\n",
       "    </tr>\n",
       "    <tr>\n",
       "      <td>4</td>\n",
       "      <td>ANDHRA PRADESH</td>\n",
       "      <td>2001</td>\n",
       "      <td>Student</td>\n",
       "      <td>56</td>\n",
       "      <td>202</td>\n",
       "      <td>19</td>\n",
       "      <td>18</td>\n",
       "      <td>0</td>\n",
       "      <td>295</td>\n",
       "      <td>46</td>\n",
       "      <td>115</td>\n",
       "      <td>5</td>\n",
       "      <td>9</td>\n",
       "      <td>0</td>\n",
       "      <td>175</td>\n",
       "      <td>470</td>\n",
       "    </tr>\n",
       "  </tbody>\n",
       "</table>\n",
       "</div>"
      ],
      "text/plain": [
       "         STATE/UT  Year                      CAUSE  Male upto 14 years  \\\n",
       "0  ANDHRA PRADESH  2001                 House Wife                   0   \n",
       "1  ANDHRA PRADESH  2001       Service (Government)                   0   \n",
       "2  ANDHRA PRADESH  2001          Service (Private)                   1   \n",
       "3  ANDHRA PRADESH  2001  Public Sector Undertaking                   0   \n",
       "4  ANDHRA PRADESH  2001                    Student                  56   \n",
       "\n",
       "   Male 15-29 years  Male 30-44 years  Male 45-59 years  \\\n",
       "0                 0                 0                 0   \n",
       "1                34                57                44   \n",
       "2               250               275               138   \n",
       "3                32                36                29   \n",
       "4               202                19                18   \n",
       "\n",
       "   Male 60 years and above  Total Male  Female upto 14 years  \\\n",
       "0                        0           0                     0   \n",
       "1                        0         135                     0   \n",
       "2                       10         674                     5   \n",
       "3                       13         110                     0   \n",
       "4                        0         295                    46   \n",
       "\n",
       "   Female 15-29 years  Female 30-44 years  Female 45-59 years  \\\n",
       "0                1132                 811                 397   \n",
       "1                  23                  22                   9   \n",
       "2                  43                  24                  28   \n",
       "3                   4                   5                   1   \n",
       "4                 115                   5                   9   \n",
       "\n",
       "   Female 60 years and above  Total Female  Grand Total  \n",
       "0                        104          2444         2444  \n",
       "1                          7            61          196  \n",
       "2                          6           106          780  \n",
       "3                          0            10          120  \n",
       "4                          0           175          470  "
      ]
     },
     "execution_count": 17,
     "metadata": {},
     "output_type": "execute_result"
    }
   ],
   "source": [
    "df.head()"
   ]
  },
  {
   "cell_type": "code",
   "execution_count": 22,
   "metadata": {},
   "outputs": [],
   "source": [
    "dfr = df[df['CAUSE'] == 'House Wife']"
   ]
  },
  {
   "cell_type": "code",
   "execution_count": 23,
   "metadata": {},
   "outputs": [
    {
     "data": {
      "text/html": [
       "<div>\n",
       "<style scoped>\n",
       "    .dataframe tbody tr th:only-of-type {\n",
       "        vertical-align: middle;\n",
       "    }\n",
       "\n",
       "    .dataframe tbody tr th {\n",
       "        vertical-align: top;\n",
       "    }\n",
       "\n",
       "    .dataframe thead th {\n",
       "        text-align: right;\n",
       "    }\n",
       "</style>\n",
       "<table border=\"1\" class=\"dataframe\">\n",
       "  <thead>\n",
       "    <tr style=\"text-align: right;\">\n",
       "      <th></th>\n",
       "      <th>STATE/UT</th>\n",
       "      <th>Year</th>\n",
       "      <th>CAUSE</th>\n",
       "      <th>Male upto 14 years</th>\n",
       "      <th>Male 15-29 years</th>\n",
       "      <th>Male 30-44 years</th>\n",
       "      <th>Male 45-59 years</th>\n",
       "      <th>Male 60 years and above</th>\n",
       "      <th>Total Male</th>\n",
       "      <th>Female upto 14 years</th>\n",
       "      <th>Female 15-29 years</th>\n",
       "      <th>Female 30-44 years</th>\n",
       "      <th>Female 45-59 years</th>\n",
       "      <th>Female 60 years and above</th>\n",
       "      <th>Total Female</th>\n",
       "      <th>Grand Total</th>\n",
       "    </tr>\n",
       "  </thead>\n",
       "  <tbody>\n",
       "    <tr>\n",
       "      <td>0</td>\n",
       "      <td>ANDHRA PRADESH</td>\n",
       "      <td>2001</td>\n",
       "      <td>House Wife</td>\n",
       "      <td>0</td>\n",
       "      <td>0</td>\n",
       "      <td>0</td>\n",
       "      <td>0</td>\n",
       "      <td>0</td>\n",
       "      <td>0</td>\n",
       "      <td>0</td>\n",
       "      <td>1132</td>\n",
       "      <td>811</td>\n",
       "      <td>397</td>\n",
       "      <td>104</td>\n",
       "      <td>2444</td>\n",
       "      <td>2444</td>\n",
       "    </tr>\n",
       "    <tr>\n",
       "      <td>15</td>\n",
       "      <td>ARUNACHAL PRADESH</td>\n",
       "      <td>2001</td>\n",
       "      <td>House Wife</td>\n",
       "      <td>0</td>\n",
       "      <td>0</td>\n",
       "      <td>0</td>\n",
       "      <td>0</td>\n",
       "      <td>0</td>\n",
       "      <td>0</td>\n",
       "      <td>0</td>\n",
       "      <td>9</td>\n",
       "      <td>5</td>\n",
       "      <td>1</td>\n",
       "      <td>0</td>\n",
       "      <td>15</td>\n",
       "      <td>15</td>\n",
       "    </tr>\n",
       "    <tr>\n",
       "      <td>30</td>\n",
       "      <td>ASSAM</td>\n",
       "      <td>2001</td>\n",
       "      <td>House Wife</td>\n",
       "      <td>0</td>\n",
       "      <td>0</td>\n",
       "      <td>0</td>\n",
       "      <td>0</td>\n",
       "      <td>0</td>\n",
       "      <td>0</td>\n",
       "      <td>0</td>\n",
       "      <td>158</td>\n",
       "      <td>161</td>\n",
       "      <td>68</td>\n",
       "      <td>7</td>\n",
       "      <td>394</td>\n",
       "      <td>394</td>\n",
       "    </tr>\n",
       "    <tr>\n",
       "      <td>45</td>\n",
       "      <td>BIHAR</td>\n",
       "      <td>2001</td>\n",
       "      <td>House Wife</td>\n",
       "      <td>0</td>\n",
       "      <td>0</td>\n",
       "      <td>0</td>\n",
       "      <td>0</td>\n",
       "      <td>0</td>\n",
       "      <td>0</td>\n",
       "      <td>0</td>\n",
       "      <td>62</td>\n",
       "      <td>62</td>\n",
       "      <td>13</td>\n",
       "      <td>3</td>\n",
       "      <td>140</td>\n",
       "      <td>140</td>\n",
       "    </tr>\n",
       "    <tr>\n",
       "      <td>60</td>\n",
       "      <td>CHHATTISGARH</td>\n",
       "      <td>2001</td>\n",
       "      <td>House Wife</td>\n",
       "      <td>0</td>\n",
       "      <td>0</td>\n",
       "      <td>0</td>\n",
       "      <td>0</td>\n",
       "      <td>0</td>\n",
       "      <td>0</td>\n",
       "      <td>3</td>\n",
       "      <td>301</td>\n",
       "      <td>202</td>\n",
       "      <td>74</td>\n",
       "      <td>26</td>\n",
       "      <td>606</td>\n",
       "      <td>606</td>\n",
       "    </tr>\n",
       "    <tr>\n",
       "      <td>...</td>\n",
       "      <td>...</td>\n",
       "      <td>...</td>\n",
       "      <td>...</td>\n",
       "      <td>...</td>\n",
       "      <td>...</td>\n",
       "      <td>...</td>\n",
       "      <td>...</td>\n",
       "      <td>...</td>\n",
       "      <td>...</td>\n",
       "      <td>...</td>\n",
       "      <td>...</td>\n",
       "      <td>...</td>\n",
       "      <td>...</td>\n",
       "      <td>...</td>\n",
       "      <td>...</td>\n",
       "      <td>...</td>\n",
       "    </tr>\n",
       "    <tr>\n",
       "      <td>495</td>\n",
       "      <td>D &amp; N HAVELI</td>\n",
       "      <td>2013</td>\n",
       "      <td>House Wife</td>\n",
       "      <td>0</td>\n",
       "      <td>0</td>\n",
       "      <td>0</td>\n",
       "      <td>0</td>\n",
       "      <td>0</td>\n",
       "      <td>0</td>\n",
       "      <td>0</td>\n",
       "      <td>7</td>\n",
       "      <td>4</td>\n",
       "      <td>4</td>\n",
       "      <td>3</td>\n",
       "      <td>18</td>\n",
       "      <td>18</td>\n",
       "    </tr>\n",
       "    <tr>\n",
       "      <td>510</td>\n",
       "      <td>DAMAN &amp; DIU</td>\n",
       "      <td>2013</td>\n",
       "      <td>House Wife</td>\n",
       "      <td>0</td>\n",
       "      <td>0</td>\n",
       "      <td>0</td>\n",
       "      <td>0</td>\n",
       "      <td>0</td>\n",
       "      <td>0</td>\n",
       "      <td>0</td>\n",
       "      <td>4</td>\n",
       "      <td>4</td>\n",
       "      <td>2</td>\n",
       "      <td>0</td>\n",
       "      <td>10</td>\n",
       "      <td>10</td>\n",
       "    </tr>\n",
       "    <tr>\n",
       "      <td>525</td>\n",
       "      <td>DELHI (UT)</td>\n",
       "      <td>2013</td>\n",
       "      <td>House Wife</td>\n",
       "      <td>0</td>\n",
       "      <td>0</td>\n",
       "      <td>0</td>\n",
       "      <td>0</td>\n",
       "      <td>0</td>\n",
       "      <td>0</td>\n",
       "      <td>0</td>\n",
       "      <td>175</td>\n",
       "      <td>86</td>\n",
       "      <td>21</td>\n",
       "      <td>4</td>\n",
       "      <td>286</td>\n",
       "      <td>286</td>\n",
       "    </tr>\n",
       "    <tr>\n",
       "      <td>540</td>\n",
       "      <td>LAKSHADWEEP</td>\n",
       "      <td>2013</td>\n",
       "      <td>House Wife</td>\n",
       "      <td>0</td>\n",
       "      <td>0</td>\n",
       "      <td>0</td>\n",
       "      <td>0</td>\n",
       "      <td>0</td>\n",
       "      <td>0</td>\n",
       "      <td>0</td>\n",
       "      <td>0</td>\n",
       "      <td>1</td>\n",
       "      <td>0</td>\n",
       "      <td>0</td>\n",
       "      <td>1</td>\n",
       "      <td>1</td>\n",
       "    </tr>\n",
       "    <tr>\n",
       "      <td>555</td>\n",
       "      <td>PUDUCHERRY</td>\n",
       "      <td>2013</td>\n",
       "      <td>House Wife</td>\n",
       "      <td>0</td>\n",
       "      <td>0</td>\n",
       "      <td>0</td>\n",
       "      <td>0</td>\n",
       "      <td>0</td>\n",
       "      <td>0</td>\n",
       "      <td>0</td>\n",
       "      <td>26</td>\n",
       "      <td>34</td>\n",
       "      <td>10</td>\n",
       "      <td>18</td>\n",
       "      <td>88</td>\n",
       "      <td>88</td>\n",
       "    </tr>\n",
       "  </tbody>\n",
       "</table>\n",
       "<p>456 rows × 16 columns</p>\n",
       "</div>"
      ],
      "text/plain": [
       "              STATE/UT  Year       CAUSE  Male upto 14 years  \\\n",
       "0       ANDHRA PRADESH  2001  House Wife                   0   \n",
       "15   ARUNACHAL PRADESH  2001  House Wife                   0   \n",
       "30               ASSAM  2001  House Wife                   0   \n",
       "45               BIHAR  2001  House Wife                   0   \n",
       "60        CHHATTISGARH  2001  House Wife                   0   \n",
       "..                 ...   ...         ...                 ...   \n",
       "495       D & N HAVELI  2013  House Wife                   0   \n",
       "510        DAMAN & DIU  2013  House Wife                   0   \n",
       "525         DELHI (UT)  2013  House Wife                   0   \n",
       "540        LAKSHADWEEP  2013  House Wife                   0   \n",
       "555         PUDUCHERRY  2013  House Wife                   0   \n",
       "\n",
       "     Male 15-29 years  Male 30-44 years  Male 45-59 years  \\\n",
       "0                   0                 0                 0   \n",
       "15                  0                 0                 0   \n",
       "30                  0                 0                 0   \n",
       "45                  0                 0                 0   \n",
       "60                  0                 0                 0   \n",
       "..                ...               ...               ...   \n",
       "495                 0                 0                 0   \n",
       "510                 0                 0                 0   \n",
       "525                 0                 0                 0   \n",
       "540                 0                 0                 0   \n",
       "555                 0                 0                 0   \n",
       "\n",
       "     Male 60 years and above  Total Male  Female upto 14 years  \\\n",
       "0                          0           0                     0   \n",
       "15                         0           0                     0   \n",
       "30                         0           0                     0   \n",
       "45                         0           0                     0   \n",
       "60                         0           0                     3   \n",
       "..                       ...         ...                   ...   \n",
       "495                        0           0                     0   \n",
       "510                        0           0                     0   \n",
       "525                        0           0                     0   \n",
       "540                        0           0                     0   \n",
       "555                        0           0                     0   \n",
       "\n",
       "     Female 15-29 years  Female 30-44 years  Female 45-59 years  \\\n",
       "0                  1132                 811                 397   \n",
       "15                    9                   5                   1   \n",
       "30                  158                 161                  68   \n",
       "45                   62                  62                  13   \n",
       "60                  301                 202                  74   \n",
       "..                  ...                 ...                 ...   \n",
       "495                   7                   4                   4   \n",
       "510                   4                   4                   2   \n",
       "525                 175                  86                  21   \n",
       "540                   0                   1                   0   \n",
       "555                  26                  34                  10   \n",
       "\n",
       "     Female 60 years and above  Total Female  Grand Total  \n",
       "0                          104          2444         2444  \n",
       "15                           0            15           15  \n",
       "30                           7           394          394  \n",
       "45                           3           140          140  \n",
       "60                          26           606          606  \n",
       "..                         ...           ...          ...  \n",
       "495                          3            18           18  \n",
       "510                          0            10           10  \n",
       "525                          4           286          286  \n",
       "540                          0             1            1  \n",
       "555                         18            88           88  \n",
       "\n",
       "[456 rows x 16 columns]"
      ]
     },
     "execution_count": 23,
     "metadata": {},
     "output_type": "execute_result"
    }
   ],
   "source": [
    "dfr"
   ]
  },
  {
   "cell_type": "code",
   "execution_count": 69,
   "metadata": {},
   "outputs": [],
   "source": [
    "df.to_csv('vinal_yearwise.csv')"
   ]
  },
  {
   "cell_type": "code",
   "execution_count": 70,
   "metadata": {},
   "outputs": [
    {
     "data": {
      "text/html": [
       "<div>\n",
       "<style scoped>\n",
       "    .dataframe tbody tr th:only-of-type {\n",
       "        vertical-align: middle;\n",
       "    }\n",
       "\n",
       "    .dataframe tbody tr th {\n",
       "        vertical-align: top;\n",
       "    }\n",
       "\n",
       "    .dataframe thead th {\n",
       "        text-align: right;\n",
       "    }\n",
       "</style>\n",
       "<table border=\"1\" class=\"dataframe\">\n",
       "  <thead>\n",
       "    <tr style=\"text-align: right;\">\n",
       "      <th></th>\n",
       "      <th>STATE/UT</th>\n",
       "      <th>Year</th>\n",
       "      <th>CAUSE</th>\n",
       "      <th>Male upto 14 years</th>\n",
       "      <th>Male 15-29 years</th>\n",
       "      <th>Male 30-44 years</th>\n",
       "      <th>Male 45-59 years</th>\n",
       "      <th>Male 60 years and above</th>\n",
       "      <th>Total Male</th>\n",
       "      <th>Female upto 14 years</th>\n",
       "      <th>Female 15-29 years</th>\n",
       "      <th>Female 30-44 years</th>\n",
       "      <th>Female 45-59 years</th>\n",
       "      <th>Female 60 years and above</th>\n",
       "      <th>Total Female</th>\n",
       "      <th>Grand Total</th>\n",
       "    </tr>\n",
       "  </thead>\n",
       "  <tbody>\n",
       "    <tr>\n",
       "      <td>0</td>\n",
       "      <td>ANDHRA PRADESH</td>\n",
       "      <td>2001</td>\n",
       "      <td>House Wife</td>\n",
       "      <td>0</td>\n",
       "      <td>0</td>\n",
       "      <td>0</td>\n",
       "      <td>0</td>\n",
       "      <td>0</td>\n",
       "      <td>0</td>\n",
       "      <td>0</td>\n",
       "      <td>1132</td>\n",
       "      <td>811</td>\n",
       "      <td>397</td>\n",
       "      <td>104</td>\n",
       "      <td>2444</td>\n",
       "      <td>2444</td>\n",
       "    </tr>\n",
       "    <tr>\n",
       "      <td>1</td>\n",
       "      <td>ANDHRA PRADESH</td>\n",
       "      <td>2001</td>\n",
       "      <td>Service (Government)</td>\n",
       "      <td>0</td>\n",
       "      <td>34</td>\n",
       "      <td>57</td>\n",
       "      <td>44</td>\n",
       "      <td>0</td>\n",
       "      <td>135</td>\n",
       "      <td>0</td>\n",
       "      <td>23</td>\n",
       "      <td>22</td>\n",
       "      <td>9</td>\n",
       "      <td>7</td>\n",
       "      <td>61</td>\n",
       "      <td>196</td>\n",
       "    </tr>\n",
       "    <tr>\n",
       "      <td>2</td>\n",
       "      <td>ANDHRA PRADESH</td>\n",
       "      <td>2001</td>\n",
       "      <td>Service (Private)</td>\n",
       "      <td>1</td>\n",
       "      <td>250</td>\n",
       "      <td>275</td>\n",
       "      <td>138</td>\n",
       "      <td>10</td>\n",
       "      <td>674</td>\n",
       "      <td>5</td>\n",
       "      <td>43</td>\n",
       "      <td>24</td>\n",
       "      <td>28</td>\n",
       "      <td>6</td>\n",
       "      <td>106</td>\n",
       "      <td>780</td>\n",
       "    </tr>\n",
       "    <tr>\n",
       "      <td>3</td>\n",
       "      <td>ANDHRA PRADESH</td>\n",
       "      <td>2001</td>\n",
       "      <td>Public Sector Undertaking</td>\n",
       "      <td>0</td>\n",
       "      <td>32</td>\n",
       "      <td>36</td>\n",
       "      <td>29</td>\n",
       "      <td>13</td>\n",
       "      <td>110</td>\n",
       "      <td>0</td>\n",
       "      <td>4</td>\n",
       "      <td>5</td>\n",
       "      <td>1</td>\n",
       "      <td>0</td>\n",
       "      <td>10</td>\n",
       "      <td>120</td>\n",
       "    </tr>\n",
       "    <tr>\n",
       "      <td>4</td>\n",
       "      <td>ANDHRA PRADESH</td>\n",
       "      <td>2001</td>\n",
       "      <td>Student</td>\n",
       "      <td>56</td>\n",
       "      <td>202</td>\n",
       "      <td>19</td>\n",
       "      <td>18</td>\n",
       "      <td>0</td>\n",
       "      <td>295</td>\n",
       "      <td>46</td>\n",
       "      <td>115</td>\n",
       "      <td>5</td>\n",
       "      <td>9</td>\n",
       "      <td>0</td>\n",
       "      <td>175</td>\n",
       "      <td>470</td>\n",
       "    </tr>\n",
       "  </tbody>\n",
       "</table>\n",
       "</div>"
      ],
      "text/plain": [
       "         STATE/UT  Year                      CAUSE  Male upto 14 years  \\\n",
       "0  ANDHRA PRADESH  2001                 House Wife                   0   \n",
       "1  ANDHRA PRADESH  2001       Service (Government)                   0   \n",
       "2  ANDHRA PRADESH  2001          Service (Private)                   1   \n",
       "3  ANDHRA PRADESH  2001  Public Sector Undertaking                   0   \n",
       "4  ANDHRA PRADESH  2001                    Student                  56   \n",
       "\n",
       "   Male 15-29 years  Male 30-44 years  Male 45-59 years  \\\n",
       "0                 0                 0                 0   \n",
       "1                34                57                44   \n",
       "2               250               275               138   \n",
       "3                32                36                29   \n",
       "4               202                19                18   \n",
       "\n",
       "   Male 60 years and above  Total Male  Female upto 14 years  \\\n",
       "0                        0           0                     0   \n",
       "1                        0         135                     0   \n",
       "2                       10         674                     5   \n",
       "3                       13         110                     0   \n",
       "4                        0         295                    46   \n",
       "\n",
       "   Female 15-29 years  Female 30-44 years  Female 45-59 years  \\\n",
       "0                1132                 811                 397   \n",
       "1                  23                  22                   9   \n",
       "2                  43                  24                  28   \n",
       "3                   4                   5                   1   \n",
       "4                 115                   5                   9   \n",
       "\n",
       "   Female 60 years and above  Total Female  Grand Total  \n",
       "0                        104          2444         2444  \n",
       "1                          7            61          196  \n",
       "2                          6           106          780  \n",
       "3                          0            10          120  \n",
       "4                          0           175          470  "
      ]
     },
     "execution_count": 70,
     "metadata": {},
     "output_type": "execute_result"
    }
   ],
   "source": [
    "df.head()"
   ]
  },
  {
   "cell_type": "code",
   "execution_count": 71,
   "metadata": {},
   "outputs": [],
   "source": [
    "df1 = df[df['CAUSE'] == 'House Wife']"
   ]
  },
  {
   "cell_type": "code",
   "execution_count": 72,
   "metadata": {},
   "outputs": [
    {
     "data": {
      "text/html": [
       "<div>\n",
       "<style scoped>\n",
       "    .dataframe tbody tr th:only-of-type {\n",
       "        vertical-align: middle;\n",
       "    }\n",
       "\n",
       "    .dataframe tbody tr th {\n",
       "        vertical-align: top;\n",
       "    }\n",
       "\n",
       "    .dataframe thead th {\n",
       "        text-align: right;\n",
       "    }\n",
       "</style>\n",
       "<table border=\"1\" class=\"dataframe\">\n",
       "  <thead>\n",
       "    <tr style=\"text-align: right;\">\n",
       "      <th></th>\n",
       "      <th>STATE/UT</th>\n",
       "      <th>Year</th>\n",
       "      <th>CAUSE</th>\n",
       "      <th>Male upto 14 years</th>\n",
       "      <th>Male 15-29 years</th>\n",
       "      <th>Male 30-44 years</th>\n",
       "      <th>Male 45-59 years</th>\n",
       "      <th>Male 60 years and above</th>\n",
       "      <th>Total Male</th>\n",
       "      <th>Female upto 14 years</th>\n",
       "      <th>Female 15-29 years</th>\n",
       "      <th>Female 30-44 years</th>\n",
       "      <th>Female 45-59 years</th>\n",
       "      <th>Female 60 years and above</th>\n",
       "      <th>Total Female</th>\n",
       "      <th>Grand Total</th>\n",
       "    </tr>\n",
       "  </thead>\n",
       "  <tbody>\n",
       "    <tr>\n",
       "      <td>0</td>\n",
       "      <td>ANDHRA PRADESH</td>\n",
       "      <td>2001</td>\n",
       "      <td>House Wife</td>\n",
       "      <td>0</td>\n",
       "      <td>0</td>\n",
       "      <td>0</td>\n",
       "      <td>0</td>\n",
       "      <td>0</td>\n",
       "      <td>0</td>\n",
       "      <td>0</td>\n",
       "      <td>1132</td>\n",
       "      <td>811</td>\n",
       "      <td>397</td>\n",
       "      <td>104</td>\n",
       "      <td>2444</td>\n",
       "      <td>2444</td>\n",
       "    </tr>\n",
       "    <tr>\n",
       "      <td>15</td>\n",
       "      <td>ARUNACHAL PRADESH</td>\n",
       "      <td>2001</td>\n",
       "      <td>House Wife</td>\n",
       "      <td>0</td>\n",
       "      <td>0</td>\n",
       "      <td>0</td>\n",
       "      <td>0</td>\n",
       "      <td>0</td>\n",
       "      <td>0</td>\n",
       "      <td>0</td>\n",
       "      <td>9</td>\n",
       "      <td>5</td>\n",
       "      <td>1</td>\n",
       "      <td>0</td>\n",
       "      <td>15</td>\n",
       "      <td>15</td>\n",
       "    </tr>\n",
       "    <tr>\n",
       "      <td>30</td>\n",
       "      <td>ASSAM</td>\n",
       "      <td>2001</td>\n",
       "      <td>House Wife</td>\n",
       "      <td>0</td>\n",
       "      <td>0</td>\n",
       "      <td>0</td>\n",
       "      <td>0</td>\n",
       "      <td>0</td>\n",
       "      <td>0</td>\n",
       "      <td>0</td>\n",
       "      <td>158</td>\n",
       "      <td>161</td>\n",
       "      <td>68</td>\n",
       "      <td>7</td>\n",
       "      <td>394</td>\n",
       "      <td>394</td>\n",
       "    </tr>\n",
       "    <tr>\n",
       "      <td>45</td>\n",
       "      <td>BIHAR</td>\n",
       "      <td>2001</td>\n",
       "      <td>House Wife</td>\n",
       "      <td>0</td>\n",
       "      <td>0</td>\n",
       "      <td>0</td>\n",
       "      <td>0</td>\n",
       "      <td>0</td>\n",
       "      <td>0</td>\n",
       "      <td>0</td>\n",
       "      <td>62</td>\n",
       "      <td>62</td>\n",
       "      <td>13</td>\n",
       "      <td>3</td>\n",
       "      <td>140</td>\n",
       "      <td>140</td>\n",
       "    </tr>\n",
       "    <tr>\n",
       "      <td>60</td>\n",
       "      <td>CHHATTISGARH</td>\n",
       "      <td>2001</td>\n",
       "      <td>House Wife</td>\n",
       "      <td>0</td>\n",
       "      <td>0</td>\n",
       "      <td>0</td>\n",
       "      <td>0</td>\n",
       "      <td>0</td>\n",
       "      <td>0</td>\n",
       "      <td>3</td>\n",
       "      <td>301</td>\n",
       "      <td>202</td>\n",
       "      <td>74</td>\n",
       "      <td>26</td>\n",
       "      <td>606</td>\n",
       "      <td>606</td>\n",
       "    </tr>\n",
       "  </tbody>\n",
       "</table>\n",
       "</div>"
      ],
      "text/plain": [
       "             STATE/UT  Year       CAUSE  Male upto 14 years  Male 15-29 years  \\\n",
       "0      ANDHRA PRADESH  2001  House Wife                   0                 0   \n",
       "15  ARUNACHAL PRADESH  2001  House Wife                   0                 0   \n",
       "30              ASSAM  2001  House Wife                   0                 0   \n",
       "45              BIHAR  2001  House Wife                   0                 0   \n",
       "60       CHHATTISGARH  2001  House Wife                   0                 0   \n",
       "\n",
       "    Male 30-44 years  Male 45-59 years  Male 60 years and above  Total Male  \\\n",
       "0                  0                 0                        0           0   \n",
       "15                 0                 0                        0           0   \n",
       "30                 0                 0                        0           0   \n",
       "45                 0                 0                        0           0   \n",
       "60                 0                 0                        0           0   \n",
       "\n",
       "    Female upto 14 years  Female 15-29 years  Female 30-44 years  \\\n",
       "0                      0                1132                 811   \n",
       "15                     0                   9                   5   \n",
       "30                     0                 158                 161   \n",
       "45                     0                  62                  62   \n",
       "60                     3                 301                 202   \n",
       "\n",
       "    Female 45-59 years  Female 60 years and above  Total Female  Grand Total  \n",
       "0                  397                        104          2444         2444  \n",
       "15                   1                          0            15           15  \n",
       "30                  68                          7           394          394  \n",
       "45                  13                          3           140          140  \n",
       "60                  74                         26           606          606  "
      ]
     },
     "execution_count": 72,
     "metadata": {},
     "output_type": "execute_result"
    }
   ],
   "source": [
    "df1.head()"
   ]
  },
  {
   "cell_type": "code",
   "execution_count": 73,
   "metadata": {},
   "outputs": [],
   "source": [
    "df2 = df1[df1['Year'] == 2014]"
   ]
  },
  {
   "cell_type": "code",
   "execution_count": 74,
   "metadata": {},
   "outputs": [
    {
     "data": {
      "text/html": [
       "<div>\n",
       "<style scoped>\n",
       "    .dataframe tbody tr th:only-of-type {\n",
       "        vertical-align: middle;\n",
       "    }\n",
       "\n",
       "    .dataframe tbody tr th {\n",
       "        vertical-align: top;\n",
       "    }\n",
       "\n",
       "    .dataframe thead th {\n",
       "        text-align: right;\n",
       "    }\n",
       "</style>\n",
       "<table border=\"1\" class=\"dataframe\">\n",
       "  <thead>\n",
       "    <tr style=\"text-align: right;\">\n",
       "      <th></th>\n",
       "      <th>STATE/UT</th>\n",
       "      <th>Year</th>\n",
       "      <th>CAUSE</th>\n",
       "      <th>Male upto 14 years</th>\n",
       "      <th>Male 15-29 years</th>\n",
       "      <th>Male 30-44 years</th>\n",
       "      <th>Male 45-59 years</th>\n",
       "      <th>Male 60 years and above</th>\n",
       "      <th>Total Male</th>\n",
       "      <th>Female upto 14 years</th>\n",
       "      <th>Female 15-29 years</th>\n",
       "      <th>Female 30-44 years</th>\n",
       "      <th>Female 45-59 years</th>\n",
       "      <th>Female 60 years and above</th>\n",
       "      <th>Total Female</th>\n",
       "      <th>Grand Total</th>\n",
       "    </tr>\n",
       "  </thead>\n",
       "  <tbody>\n",
       "  </tbody>\n",
       "</table>\n",
       "</div>"
      ],
      "text/plain": [
       "Empty DataFrame\n",
       "Columns: [STATE/UT, Year, CAUSE, Male upto 14 years, Male 15-29 years, Male 30-44 years, Male 45-59 years, Male 60 years and above, Total Male, Female upto 14 years, Female 15-29 years, Female 30-44 years, Female 45-59 years, Female 60 years and above, Total Female, Grand Total]\n",
       "Index: []"
      ]
     },
     "execution_count": 74,
     "metadata": {},
     "output_type": "execute_result"
    }
   ],
   "source": [
    "df2.head()"
   ]
  },
  {
   "cell_type": "code",
   "execution_count": 58,
   "metadata": {},
   "outputs": [
    {
     "data": {
      "text/plain": [
       "68226"
      ]
     },
     "execution_count": 58,
     "metadata": {},
     "output_type": "execute_result"
    }
   ],
   "source": [
    "df2['Grand Total'].sum()"
   ]
  },
  {
   "cell_type": "code",
   "execution_count": 75,
   "metadata": {},
   "outputs": [
    {
     "data": {
      "text/html": [
       "<div>\n",
       "<style scoped>\n",
       "    .dataframe tbody tr th:only-of-type {\n",
       "        vertical-align: middle;\n",
       "    }\n",
       "\n",
       "    .dataframe tbody tr th {\n",
       "        vertical-align: top;\n",
       "    }\n",
       "\n",
       "    .dataframe thead th {\n",
       "        text-align: right;\n",
       "    }\n",
       "</style>\n",
       "<table border=\"1\" class=\"dataframe\">\n",
       "  <thead>\n",
       "    <tr style=\"text-align: right;\">\n",
       "      <th></th>\n",
       "      <th>STATE/UT</th>\n",
       "      <th>Year</th>\n",
       "      <th>CAUSE</th>\n",
       "      <th>Male upto 14 years</th>\n",
       "      <th>Male 15-29 years</th>\n",
       "      <th>Male 30-44 years</th>\n",
       "      <th>Male 45-59 years</th>\n",
       "      <th>Male 60 years and above</th>\n",
       "      <th>Total Male</th>\n",
       "      <th>Female upto 14 years</th>\n",
       "      <th>Female 15-29 years</th>\n",
       "      <th>Female 30-44 years</th>\n",
       "      <th>Female 45-59 years</th>\n",
       "      <th>Female 60 years and above</th>\n",
       "      <th>Total Female</th>\n",
       "      <th>Grand Total</th>\n",
       "    </tr>\n",
       "  </thead>\n",
       "  <tbody>\n",
       "    <tr>\n",
       "      <td>0</td>\n",
       "      <td>ANDHRA PRADESH</td>\n",
       "      <td>2001</td>\n",
       "      <td>House Wife</td>\n",
       "      <td>0</td>\n",
       "      <td>0</td>\n",
       "      <td>0</td>\n",
       "      <td>0</td>\n",
       "      <td>0</td>\n",
       "      <td>0</td>\n",
       "      <td>0</td>\n",
       "      <td>1132</td>\n",
       "      <td>811</td>\n",
       "      <td>397</td>\n",
       "      <td>104</td>\n",
       "      <td>2444</td>\n",
       "      <td>2444</td>\n",
       "    </tr>\n",
       "    <tr>\n",
       "      <td>1</td>\n",
       "      <td>ANDHRA PRADESH</td>\n",
       "      <td>2001</td>\n",
       "      <td>Service (Government)</td>\n",
       "      <td>0</td>\n",
       "      <td>34</td>\n",
       "      <td>57</td>\n",
       "      <td>44</td>\n",
       "      <td>0</td>\n",
       "      <td>135</td>\n",
       "      <td>0</td>\n",
       "      <td>23</td>\n",
       "      <td>22</td>\n",
       "      <td>9</td>\n",
       "      <td>7</td>\n",
       "      <td>61</td>\n",
       "      <td>196</td>\n",
       "    </tr>\n",
       "    <tr>\n",
       "      <td>2</td>\n",
       "      <td>ANDHRA PRADESH</td>\n",
       "      <td>2001</td>\n",
       "      <td>Service (Private)</td>\n",
       "      <td>1</td>\n",
       "      <td>250</td>\n",
       "      <td>275</td>\n",
       "      <td>138</td>\n",
       "      <td>10</td>\n",
       "      <td>674</td>\n",
       "      <td>5</td>\n",
       "      <td>43</td>\n",
       "      <td>24</td>\n",
       "      <td>28</td>\n",
       "      <td>6</td>\n",
       "      <td>106</td>\n",
       "      <td>780</td>\n",
       "    </tr>\n",
       "    <tr>\n",
       "      <td>3</td>\n",
       "      <td>ANDHRA PRADESH</td>\n",
       "      <td>2001</td>\n",
       "      <td>Public Sector Undertaking</td>\n",
       "      <td>0</td>\n",
       "      <td>32</td>\n",
       "      <td>36</td>\n",
       "      <td>29</td>\n",
       "      <td>13</td>\n",
       "      <td>110</td>\n",
       "      <td>0</td>\n",
       "      <td>4</td>\n",
       "      <td>5</td>\n",
       "      <td>1</td>\n",
       "      <td>0</td>\n",
       "      <td>10</td>\n",
       "      <td>120</td>\n",
       "    </tr>\n",
       "    <tr>\n",
       "      <td>4</td>\n",
       "      <td>ANDHRA PRADESH</td>\n",
       "      <td>2001</td>\n",
       "      <td>Student</td>\n",
       "      <td>56</td>\n",
       "      <td>202</td>\n",
       "      <td>19</td>\n",
       "      <td>18</td>\n",
       "      <td>0</td>\n",
       "      <td>295</td>\n",
       "      <td>46</td>\n",
       "      <td>115</td>\n",
       "      <td>5</td>\n",
       "      <td>9</td>\n",
       "      <td>0</td>\n",
       "      <td>175</td>\n",
       "      <td>470</td>\n",
       "    </tr>\n",
       "    <tr>\n",
       "      <td>...</td>\n",
       "      <td>...</td>\n",
       "      <td>...</td>\n",
       "      <td>...</td>\n",
       "      <td>...</td>\n",
       "      <td>...</td>\n",
       "      <td>...</td>\n",
       "      <td>...</td>\n",
       "      <td>...</td>\n",
       "      <td>...</td>\n",
       "      <td>...</td>\n",
       "      <td>...</td>\n",
       "      <td>...</td>\n",
       "      <td>...</td>\n",
       "      <td>...</td>\n",
       "      <td>...</td>\n",
       "      <td>...</td>\n",
       "    </tr>\n",
       "    <tr>\n",
       "      <td>565</td>\n",
       "      <td>PUDUCHERRY</td>\n",
       "      <td>2013</td>\n",
       "      <td>Retired Person</td>\n",
       "      <td>0</td>\n",
       "      <td>0</td>\n",
       "      <td>0</td>\n",
       "      <td>2</td>\n",
       "      <td>4</td>\n",
       "      <td>6</td>\n",
       "      <td>0</td>\n",
       "      <td>0</td>\n",
       "      <td>0</td>\n",
       "      <td>0</td>\n",
       "      <td>0</td>\n",
       "      <td>0</td>\n",
       "      <td>6</td>\n",
       "    </tr>\n",
       "    <tr>\n",
       "      <td>566</td>\n",
       "      <td>PUDUCHERRY</td>\n",
       "      <td>2013</td>\n",
       "      <td>Others (Please Specify)</td>\n",
       "      <td>0</td>\n",
       "      <td>0</td>\n",
       "      <td>0</td>\n",
       "      <td>0</td>\n",
       "      <td>0</td>\n",
       "      <td>0</td>\n",
       "      <td>0</td>\n",
       "      <td>0</td>\n",
       "      <td>0</td>\n",
       "      <td>0</td>\n",
       "      <td>0</td>\n",
       "      <td>0</td>\n",
       "      <td>0</td>\n",
       "    </tr>\n",
       "    <tr>\n",
       "      <td>567</td>\n",
       "      <td>PUDUCHERRY</td>\n",
       "      <td>2013</td>\n",
       "      <td>Total</td>\n",
       "      <td>3</td>\n",
       "      <td>84</td>\n",
       "      <td>132</td>\n",
       "      <td>150</td>\n",
       "      <td>39</td>\n",
       "      <td>408</td>\n",
       "      <td>2</td>\n",
       "      <td>66</td>\n",
       "      <td>40</td>\n",
       "      <td>12</td>\n",
       "      <td>18</td>\n",
       "      <td>138</td>\n",
       "      <td>546</td>\n",
       "    </tr>\n",
       "    <tr>\n",
       "      <td>568</td>\n",
       "      <td>PUDUCHERRY</td>\n",
       "      <td>2013</td>\n",
       "      <td>Total Salaried</td>\n",
       "      <td>0</td>\n",
       "      <td>19</td>\n",
       "      <td>17</td>\n",
       "      <td>19</td>\n",
       "      <td>4</td>\n",
       "      <td>59</td>\n",
       "      <td>0</td>\n",
       "      <td>10</td>\n",
       "      <td>2</td>\n",
       "      <td>1</td>\n",
       "      <td>0</td>\n",
       "      <td>13</td>\n",
       "      <td>72</td>\n",
       "    </tr>\n",
       "    <tr>\n",
       "      <td>569</td>\n",
       "      <td>PUDUCHERRY</td>\n",
       "      <td>2013</td>\n",
       "      <td>Total Self-employed</td>\n",
       "      <td>0</td>\n",
       "      <td>43</td>\n",
       "      <td>104</td>\n",
       "      <td>107</td>\n",
       "      <td>11</td>\n",
       "      <td>265</td>\n",
       "      <td>0</td>\n",
       "      <td>3</td>\n",
       "      <td>3</td>\n",
       "      <td>0</td>\n",
       "      <td>0</td>\n",
       "      <td>6</td>\n",
       "      <td>271</td>\n",
       "    </tr>\n",
       "  </tbody>\n",
       "</table>\n",
       "<p>6840 rows × 16 columns</p>\n",
       "</div>"
      ],
      "text/plain": [
       "           STATE/UT  Year                      CAUSE  Male upto 14 years  \\\n",
       "0    ANDHRA PRADESH  2001                 House Wife                   0   \n",
       "1    ANDHRA PRADESH  2001       Service (Government)                   0   \n",
       "2    ANDHRA PRADESH  2001          Service (Private)                   1   \n",
       "3    ANDHRA PRADESH  2001  Public Sector Undertaking                   0   \n",
       "4    ANDHRA PRADESH  2001                    Student                  56   \n",
       "..              ...   ...                        ...                 ...   \n",
       "565      PUDUCHERRY  2013             Retired Person                   0   \n",
       "566      PUDUCHERRY  2013    Others (Please Specify)                   0   \n",
       "567      PUDUCHERRY  2013                      Total                   3   \n",
       "568      PUDUCHERRY  2013             Total Salaried                   0   \n",
       "569      PUDUCHERRY  2013        Total Self-employed                   0   \n",
       "\n",
       "     Male 15-29 years  Male 30-44 years  Male 45-59 years  \\\n",
       "0                   0                 0                 0   \n",
       "1                  34                57                44   \n",
       "2                 250               275               138   \n",
       "3                  32                36                29   \n",
       "4                 202                19                18   \n",
       "..                ...               ...               ...   \n",
       "565                 0                 0                 2   \n",
       "566                 0                 0                 0   \n",
       "567                84               132               150   \n",
       "568                19                17                19   \n",
       "569                43               104               107   \n",
       "\n",
       "     Male 60 years and above  Total Male  Female upto 14 years  \\\n",
       "0                          0           0                     0   \n",
       "1                          0         135                     0   \n",
       "2                         10         674                     5   \n",
       "3                         13         110                     0   \n",
       "4                          0         295                    46   \n",
       "..                       ...         ...                   ...   \n",
       "565                        4           6                     0   \n",
       "566                        0           0                     0   \n",
       "567                       39         408                     2   \n",
       "568                        4          59                     0   \n",
       "569                       11         265                     0   \n",
       "\n",
       "     Female 15-29 years  Female 30-44 years  Female 45-59 years  \\\n",
       "0                  1132                 811                 397   \n",
       "1                    23                  22                   9   \n",
       "2                    43                  24                  28   \n",
       "3                     4                   5                   1   \n",
       "4                   115                   5                   9   \n",
       "..                  ...                 ...                 ...   \n",
       "565                   0                   0                   0   \n",
       "566                   0                   0                   0   \n",
       "567                  66                  40                  12   \n",
       "568                  10                   2                   1   \n",
       "569                   3                   3                   0   \n",
       "\n",
       "     Female 60 years and above  Total Female  Grand Total  \n",
       "0                          104          2444         2444  \n",
       "1                            7            61          196  \n",
       "2                            6           106          780  \n",
       "3                            0            10          120  \n",
       "4                            0           175          470  \n",
       "..                         ...           ...          ...  \n",
       "565                          0             0            6  \n",
       "566                          0             0            0  \n",
       "567                         18           138          546  \n",
       "568                          0            13           72  \n",
       "569                          0             6          271  \n",
       "\n",
       "[6840 rows x 16 columns]"
      ]
     },
     "execution_count": 75,
     "metadata": {},
     "output_type": "execute_result"
    }
   ],
   "source": [
    "df"
   ]
  },
  {
   "cell_type": "code",
   "execution_count": 100,
   "metadata": {},
   "outputs": [],
   "source": [
    "df1 = df[df['CAUSE'] == 'House Wife']"
   ]
  },
  {
   "cell_type": "code",
   "execution_count": 101,
   "metadata": {},
   "outputs": [
    {
     "data": {
      "text/html": [
       "<div>\n",
       "<style scoped>\n",
       "    .dataframe tbody tr th:only-of-type {\n",
       "        vertical-align: middle;\n",
       "    }\n",
       "\n",
       "    .dataframe tbody tr th {\n",
       "        vertical-align: top;\n",
       "    }\n",
       "\n",
       "    .dataframe thead th {\n",
       "        text-align: right;\n",
       "    }\n",
       "</style>\n",
       "<table border=\"1\" class=\"dataframe\">\n",
       "  <thead>\n",
       "    <tr style=\"text-align: right;\">\n",
       "      <th></th>\n",
       "      <th>STATE/UT</th>\n",
       "      <th>Year</th>\n",
       "      <th>CAUSE</th>\n",
       "      <th>Male upto 14 years</th>\n",
       "      <th>Male 15-29 years</th>\n",
       "      <th>Male 30-44 years</th>\n",
       "      <th>Male 45-59 years</th>\n",
       "      <th>Male 60 years and above</th>\n",
       "      <th>Total Male</th>\n",
       "      <th>Female upto 14 years</th>\n",
       "      <th>Female 15-29 years</th>\n",
       "      <th>Female 30-44 years</th>\n",
       "      <th>Female 45-59 years</th>\n",
       "      <th>Female 60 years and above</th>\n",
       "      <th>Total Female</th>\n",
       "      <th>Grand Total</th>\n",
       "    </tr>\n",
       "  </thead>\n",
       "  <tbody>\n",
       "    <tr>\n",
       "      <td>0</td>\n",
       "      <td>ANDHRA PRADESH</td>\n",
       "      <td>2001</td>\n",
       "      <td>House Wife</td>\n",
       "      <td>0</td>\n",
       "      <td>0</td>\n",
       "      <td>0</td>\n",
       "      <td>0</td>\n",
       "      <td>0</td>\n",
       "      <td>0</td>\n",
       "      <td>0</td>\n",
       "      <td>1132</td>\n",
       "      <td>811</td>\n",
       "      <td>397</td>\n",
       "      <td>104</td>\n",
       "      <td>2444</td>\n",
       "      <td>2444</td>\n",
       "    </tr>\n",
       "    <tr>\n",
       "      <td>15</td>\n",
       "      <td>ARUNACHAL PRADESH</td>\n",
       "      <td>2001</td>\n",
       "      <td>House Wife</td>\n",
       "      <td>0</td>\n",
       "      <td>0</td>\n",
       "      <td>0</td>\n",
       "      <td>0</td>\n",
       "      <td>0</td>\n",
       "      <td>0</td>\n",
       "      <td>0</td>\n",
       "      <td>9</td>\n",
       "      <td>5</td>\n",
       "      <td>1</td>\n",
       "      <td>0</td>\n",
       "      <td>15</td>\n",
       "      <td>15</td>\n",
       "    </tr>\n",
       "    <tr>\n",
       "      <td>30</td>\n",
       "      <td>ASSAM</td>\n",
       "      <td>2001</td>\n",
       "      <td>House Wife</td>\n",
       "      <td>0</td>\n",
       "      <td>0</td>\n",
       "      <td>0</td>\n",
       "      <td>0</td>\n",
       "      <td>0</td>\n",
       "      <td>0</td>\n",
       "      <td>0</td>\n",
       "      <td>158</td>\n",
       "      <td>161</td>\n",
       "      <td>68</td>\n",
       "      <td>7</td>\n",
       "      <td>394</td>\n",
       "      <td>394</td>\n",
       "    </tr>\n",
       "    <tr>\n",
       "      <td>45</td>\n",
       "      <td>BIHAR</td>\n",
       "      <td>2001</td>\n",
       "      <td>House Wife</td>\n",
       "      <td>0</td>\n",
       "      <td>0</td>\n",
       "      <td>0</td>\n",
       "      <td>0</td>\n",
       "      <td>0</td>\n",
       "      <td>0</td>\n",
       "      <td>0</td>\n",
       "      <td>62</td>\n",
       "      <td>62</td>\n",
       "      <td>13</td>\n",
       "      <td>3</td>\n",
       "      <td>140</td>\n",
       "      <td>140</td>\n",
       "    </tr>\n",
       "    <tr>\n",
       "      <td>60</td>\n",
       "      <td>CHHATTISGARH</td>\n",
       "      <td>2001</td>\n",
       "      <td>House Wife</td>\n",
       "      <td>0</td>\n",
       "      <td>0</td>\n",
       "      <td>0</td>\n",
       "      <td>0</td>\n",
       "      <td>0</td>\n",
       "      <td>0</td>\n",
       "      <td>3</td>\n",
       "      <td>301</td>\n",
       "      <td>202</td>\n",
       "      <td>74</td>\n",
       "      <td>26</td>\n",
       "      <td>606</td>\n",
       "      <td>606</td>\n",
       "    </tr>\n",
       "  </tbody>\n",
       "</table>\n",
       "</div>"
      ],
      "text/plain": [
       "             STATE/UT  Year       CAUSE  Male upto 14 years  Male 15-29 years  \\\n",
       "0      ANDHRA PRADESH  2001  House Wife                   0                 0   \n",
       "15  ARUNACHAL PRADESH  2001  House Wife                   0                 0   \n",
       "30              ASSAM  2001  House Wife                   0                 0   \n",
       "45              BIHAR  2001  House Wife                   0                 0   \n",
       "60       CHHATTISGARH  2001  House Wife                   0                 0   \n",
       "\n",
       "    Male 30-44 years  Male 45-59 years  Male 60 years and above  Total Male  \\\n",
       "0                  0                 0                        0           0   \n",
       "15                 0                 0                        0           0   \n",
       "30                 0                 0                        0           0   \n",
       "45                 0                 0                        0           0   \n",
       "60                 0                 0                        0           0   \n",
       "\n",
       "    Female upto 14 years  Female 15-29 years  Female 30-44 years  \\\n",
       "0                      0                1132                 811   \n",
       "15                     0                   9                   5   \n",
       "30                     0                 158                 161   \n",
       "45                     0                  62                  62   \n",
       "60                     3                 301                 202   \n",
       "\n",
       "    Female 45-59 years  Female 60 years and above  Total Female  Grand Total  \n",
       "0                  397                        104          2444         2444  \n",
       "15                   1                          0            15           15  \n",
       "30                  68                          7           394          394  \n",
       "45                  13                          3           140          140  \n",
       "60                  74                         26           606          606  "
      ]
     },
     "execution_count": 101,
     "metadata": {},
     "output_type": "execute_result"
    }
   ],
   "source": [
    "df1.head()"
   ]
  },
  {
   "cell_type": "code",
   "execution_count": 102,
   "metadata": {},
   "outputs": [],
   "source": [
    "df1 = df1[df1['Year']== 2008]"
   ]
  },
  {
   "cell_type": "code",
   "execution_count": 103,
   "metadata": {},
   "outputs": [
    {
     "data": {
      "text/html": [
       "<div>\n",
       "<style scoped>\n",
       "    .dataframe tbody tr th:only-of-type {\n",
       "        vertical-align: middle;\n",
       "    }\n",
       "\n",
       "    .dataframe tbody tr th {\n",
       "        vertical-align: top;\n",
       "    }\n",
       "\n",
       "    .dataframe thead th {\n",
       "        text-align: right;\n",
       "    }\n",
       "</style>\n",
       "<table border=\"1\" class=\"dataframe\">\n",
       "  <thead>\n",
       "    <tr style=\"text-align: right;\">\n",
       "      <th></th>\n",
       "      <th>STATE/UT</th>\n",
       "      <th>Year</th>\n",
       "      <th>CAUSE</th>\n",
       "      <th>Male upto 14 years</th>\n",
       "      <th>Male 15-29 years</th>\n",
       "      <th>Male 30-44 years</th>\n",
       "      <th>Male 45-59 years</th>\n",
       "      <th>Male 60 years and above</th>\n",
       "      <th>Total Male</th>\n",
       "      <th>Female upto 14 years</th>\n",
       "      <th>Female 15-29 years</th>\n",
       "      <th>Female 30-44 years</th>\n",
       "      <th>Female 45-59 years</th>\n",
       "      <th>Female 60 years and above</th>\n",
       "      <th>Total Female</th>\n",
       "      <th>Grand Total</th>\n",
       "    </tr>\n",
       "  </thead>\n",
       "  <tbody>\n",
       "    <tr>\n",
       "      <td>0</td>\n",
       "      <td>ANDHRA PRADESH</td>\n",
       "      <td>2007</td>\n",
       "      <td>House Wife</td>\n",
       "      <td>0</td>\n",
       "      <td>0</td>\n",
       "      <td>0</td>\n",
       "      <td>0</td>\n",
       "      <td>0</td>\n",
       "      <td>0</td>\n",
       "      <td>0</td>\n",
       "      <td>1105</td>\n",
       "      <td>811</td>\n",
       "      <td>405</td>\n",
       "      <td>159</td>\n",
       "      <td>2480</td>\n",
       "      <td>2480</td>\n",
       "    </tr>\n",
       "    <tr>\n",
       "      <td>15</td>\n",
       "      <td>ARUNACHAL PRADESH</td>\n",
       "      <td>2007</td>\n",
       "      <td>House Wife</td>\n",
       "      <td>0</td>\n",
       "      <td>0</td>\n",
       "      <td>0</td>\n",
       "      <td>0</td>\n",
       "      <td>0</td>\n",
       "      <td>0</td>\n",
       "      <td>0</td>\n",
       "      <td>2</td>\n",
       "      <td>8</td>\n",
       "      <td>0</td>\n",
       "      <td>0</td>\n",
       "      <td>10</td>\n",
       "      <td>10</td>\n",
       "    </tr>\n",
       "    <tr>\n",
       "      <td>30</td>\n",
       "      <td>ASSAM</td>\n",
       "      <td>2007</td>\n",
       "      <td>House Wife</td>\n",
       "      <td>0</td>\n",
       "      <td>0</td>\n",
       "      <td>0</td>\n",
       "      <td>0</td>\n",
       "      <td>0</td>\n",
       "      <td>0</td>\n",
       "      <td>0</td>\n",
       "      <td>188</td>\n",
       "      <td>214</td>\n",
       "      <td>95</td>\n",
       "      <td>19</td>\n",
       "      <td>516</td>\n",
       "      <td>516</td>\n",
       "    </tr>\n",
       "    <tr>\n",
       "      <td>45</td>\n",
       "      <td>BIHAR</td>\n",
       "      <td>2007</td>\n",
       "      <td>House Wife</td>\n",
       "      <td>0</td>\n",
       "      <td>0</td>\n",
       "      <td>0</td>\n",
       "      <td>0</td>\n",
       "      <td>0</td>\n",
       "      <td>0</td>\n",
       "      <td>0</td>\n",
       "      <td>63</td>\n",
       "      <td>73</td>\n",
       "      <td>29</td>\n",
       "      <td>6</td>\n",
       "      <td>171</td>\n",
       "      <td>171</td>\n",
       "    </tr>\n",
       "    <tr>\n",
       "      <td>60</td>\n",
       "      <td>CHHATTISGARH</td>\n",
       "      <td>2007</td>\n",
       "      <td>House Wife</td>\n",
       "      <td>0</td>\n",
       "      <td>0</td>\n",
       "      <td>0</td>\n",
       "      <td>0</td>\n",
       "      <td>0</td>\n",
       "      <td>0</td>\n",
       "      <td>3</td>\n",
       "      <td>423</td>\n",
       "      <td>270</td>\n",
       "      <td>106</td>\n",
       "      <td>46</td>\n",
       "      <td>848</td>\n",
       "      <td>848</td>\n",
       "    </tr>\n",
       "  </tbody>\n",
       "</table>\n",
       "</div>"
      ],
      "text/plain": [
       "             STATE/UT  Year       CAUSE  Male upto 14 years  Male 15-29 years  \\\n",
       "0      ANDHRA PRADESH  2007  House Wife                   0                 0   \n",
       "15  ARUNACHAL PRADESH  2007  House Wife                   0                 0   \n",
       "30              ASSAM  2007  House Wife                   0                 0   \n",
       "45              BIHAR  2007  House Wife                   0                 0   \n",
       "60       CHHATTISGARH  2007  House Wife                   0                 0   \n",
       "\n",
       "    Male 30-44 years  Male 45-59 years  Male 60 years and above  Total Male  \\\n",
       "0                  0                 0                        0           0   \n",
       "15                 0                 0                        0           0   \n",
       "30                 0                 0                        0           0   \n",
       "45                 0                 0                        0           0   \n",
       "60                 0                 0                        0           0   \n",
       "\n",
       "    Female upto 14 years  Female 15-29 years  Female 30-44 years  \\\n",
       "0                      0                1105                 811   \n",
       "15                     0                   2                   8   \n",
       "30                     0                 188                 214   \n",
       "45                     0                  63                  73   \n",
       "60                     3                 423                 270   \n",
       "\n",
       "    Female 45-59 years  Female 60 years and above  Total Female  Grand Total  \n",
       "0                  405                        159          2480         2480  \n",
       "15                   0                          0            10           10  \n",
       "30                  95                         19           516          516  \n",
       "45                  29                          6           171          171  \n",
       "60                 106                         46           848          848  "
      ]
     },
     "execution_count": 103,
     "metadata": {},
     "output_type": "execute_result"
    }
   ],
   "source": [
    "df1.head()"
   ]
  },
  {
   "cell_type": "code",
   "execution_count": 104,
   "metadata": {},
   "outputs": [
    {
     "data": {
      "text/plain": [
       "72486"
      ]
     },
     "execution_count": 104,
     "metadata": {},
     "output_type": "execute_result"
    }
   ],
   "source": [
    "df1['Grand Total'].sum()"
   ]
  },
  {
   "cell_type": "code",
   "execution_count": 110,
   "metadata": {},
   "outputs": [
    {
     "data": {
      "text/plain": [
       "68226"
      ]
     },
     "execution_count": 110,
     "metadata": {},
     "output_type": "execute_result"
    }
   ],
   "source": [
    "df1 = df[df['CAUSE'] == 'House Wife']\n",
    "df1 = df1[df1['Year']== 2013]\n",
    "df1['Grand Total'].sum()"
   ]
  },
  {
   "cell_type": "code",
   "execution_count": 112,
   "metadata": {},
   "outputs": [
    {
     "data": {
      "text/plain": [
       "[<matplotlib.lines.Line2D at 0x12acad48>]"
      ]
     },
     "execution_count": 112,
     "metadata": {},
     "output_type": "execute_result"
    },
    {
     "data": {
      "image/png": "[encoded data removed]",
      "text/plain": [
       "<Figure size 432x288 with 1 Axes>"
      ]
     },
     "metadata": {
      "needs_background": "light"
     },
     "output_type": "display_data"
    }
   ],
   "source": [
    "from matplotlib import pyplot as plt\n",
    "plt.plot([2001,2002,2003,2004,2005,2006,2007,2008,2009,2010,2011,2012,2013], [64977,65712,68226,69510,72423,75189,72486,73101,75276,75174,73788,65712,68226])"
   ]
  },
  {
   "cell_type": "code",
   "execution_count": 113,
   "metadata": {},
   "outputs": [
    {
     "data": {
      "text/plain": [
       "Others (Please Specify)              912\n",
       "Service (Government)                 456\n",
       "Student                              456\n",
       "Public Sector Undertaking            456\n",
       "Total Self-employed                  456\n",
       "Unemployed                           456\n",
       "House Wife                           456\n",
       "Retired Person                       456\n",
       "Service (Private)                    456\n",
       "Total                                456\n",
       "Total Salaried                       456\n",
       "Farming/Agriculture Activity         456\n",
       "Self-employed (Business activity)    456\n",
       "Professional Activity                456\n",
       "Name: CAUSE, dtype: int64"
      ]
     },
     "execution_count": 113,
     "metadata": {},
     "output_type": "execute_result"
    }
   ],
   "source": [
    "df['CAUSE'].value_counts()"
   ]
  },
  {
   "cell_type": "code",
   "execution_count": 115,
   "metadata": {},
   "outputs": [
    {
     "data": {
      "text/plain": [
       "[<matplotlib.lines.Line2D at 0x12b90988>]"
      ]
     },
     "execution_count": 115,
     "metadata": {},
     "output_type": "execute_result"
    },
    {
     "data": {
      "image/png": "[encoded data removed]",
      "text/plain": [
       "<Figure size 432x288 with 1 Axes>"
      ]
     },
     "metadata": {
      "needs_background": "light"
     },
     "output_type": "display_data"
    }
   ],
   "source": [
    "j = []\n",
    "for i in range(2001,2014):\n",
    "    df1 = df[df['CAUSE'] == 'Student']\n",
    "    df1 = df1[df1['Year']== i]\n",
    "    j.append(df1['Grand Total'].sum())\n",
    "plt.plot([2001,2002,2003,2004,2005,2006,2007,2008,2009,2010,2011,2012,2013], j)"
   ]
  },
  {
   "cell_type": "code",
   "execution_count": 116,
   "metadata": {},
   "outputs": [
    {
     "data": {
      "text/plain": [
       "[<matplotlib.lines.Line2D at 0x12beefc8>]"
      ]
     },
     "execution_count": 116,
     "metadata": {},
     "output_type": "execute_result"
    },
    {
     "data": {
      "image/png": "[encoded data removed]",
      "text/plain": [
       "<Figure size 432x288 with 1 Axes>"
      ]
     },
     "metadata": {
      "needs_background": "light"
     },
     "output_type": "display_data"
    }
   ],
   "source": [
    "j = []\n",
    "for i in range(2001,2014):\n",
    "    df1 = df[df['CAUSE'] == 'Unemployed']\n",
    "    df1 = df1[df1['Year']== i]\n",
    "    j.append(df1['Grand Total'].sum())\n",
    "plt.plot([2001,2002,2003,2004,2005,2006,2007,2008,2009,2010,2011,2012,2013], j)"
   ]
  },
  {
   "cell_type": "code",
   "execution_count": 117,
   "metadata": {},
   "outputs": [
    {
     "data": {
      "text/plain": [
       "[<matplotlib.lines.Line2D at 0x12c52d88>]"
      ]
     },
     "execution_count": 117,
     "metadata": {},
     "output_type": "execute_result"
    },
    {
     "data": {
      "image/png": "[encoded data removed]",
      "text/plain": [
       "<Figure size 432x288 with 1 Axes>"
      ]
     },
     "metadata": {
      "needs_background": "light"
     },
     "output_type": "display_data"
    }
   ],
   "source": [
    "j = []\n",
    "for i in range(2001,2014):\n",
    "    df1 = df[df['CAUSE'] == 'Retired Person']\n",
    "    df1 = df1[df1['Year']== i]\n",
    "    j.append(df1['Grand Total'].sum())\n",
    "plt.plot([2001,2002,2003,2004,2005,2006,2007,2008,2009,2010,2011,2012,2013], j)"
   ]
  },
  {
   "cell_type": "code",
   "execution_count": 118,
   "metadata": {},
   "outputs": [
    {
     "data": {
      "text/plain": [
       "[<matplotlib.lines.Line2D at 0x12cbe548>]"
      ]
     },
     "execution_count": 118,
     "metadata": {},
     "output_type": "execute_result"
    },
    {
     "data": {
      "image/png": "[encoded data removed]",
      "text/plain": [
       "<Figure size 432x288 with 1 Axes>"
      ]
     },
     "metadata": {
      "needs_background": "light"
     },
     "output_type": "display_data"
    }
   ],
   "source": [
    "j = []\n",
    "for i in range(2001,2014):\n",
    "    df1 = df[df['CAUSE'] == 'Self-employed (Business activity)']\n",
    "    df1 = df1[df1['Year']== i]\n",
    "    j.append(df1['Grand Total'].sum())\n",
    "plt.plot([2001,2002,2003,2004,2005,2006,2007,2008,2009,2010,2011,2012,2013], j)   "
   ]
  },
  {
   "cell_type": "code",
   "execution_count": 119,
   "metadata": {},
   "outputs": [
    {
     "data": {
      "text/plain": [
       "[<matplotlib.lines.Line2D at 0x12d1c448>]"
      ]
     },
     "execution_count": 119,
     "metadata": {},
     "output_type": "execute_result"
    },
    {
     "data": {
      "image/png": "[encoded data removed]",
      "text/plain": [
       "<Figure size 432x288 with 1 Axes>"
      ]
     },
     "metadata": {
      "needs_background": "light"
     },
     "output_type": "display_data"
    }
   ],
   "source": [
    "j = []\n",
    "for i in range(2001,2014):\n",
    "    df1 = df[df['CAUSE'] == 'Farming/Agriculture Activity']\n",
    "    df1 = df1[df1['Year']== i]\n",
    "    j.append(df1['Grand Total'].sum())\n",
    "plt.plot([2001,2002,2003,2004,2005,2006,2007,2008,2009,2010,2011,2012,2013], j)   "
   ]
  },
  {
   "cell_type": "code",
   "execution_count": 120,
   "metadata": {},
   "outputs": [
    {
     "data": {
      "text/plain": [
       "[<matplotlib.lines.Line2D at 0x12d7cac8>]"
      ]
     },
     "execution_count": 120,
     "metadata": {},
     "output_type": "execute_result"
    },
    {
     "data": {
      "image/png": "[encoded data removed]",
      "text/plain": [
       "<Figure size 432x288 with 1 Axes>"
      ]
     },
     "metadata": {
      "needs_background": "light"
     },
     "output_type": "display_data"
    }
   ],
   "source": [
    "\n",
    "j = []\n",
    "for i in range(2001,2014):\n",
    "    df1 = df[df['CAUSE'] == 'Professional Activity']\n",
    "    df1 = df1[df1['Year']== i]\n",
    "    j.append(df1['Grand Total'].sum())\n",
    "plt.plot([2001,2002,2003,2004,2005,2006,2007,2008,2009,2010,2011,2012,2013], j)   "
   ]
  },
  {
   "cell_type": "code",
   "execution_count": 121,
   "metadata": {},
   "outputs": [
    {
     "data": {
      "text/plain": [
       "[<matplotlib.lines.Line2D at 0x13dafa88>]"
      ]
     },
     "execution_count": 121,
     "metadata": {},
     "output_type": "execute_result"
    },
    {
     "data": {
      "image/png": "[encoded data removed]",
      "text/plain": [
       "<Figure size 432x288 with 1 Axes>"
      ]
     },
     "metadata": {
      "needs_background": "light"
     },
     "output_type": "display_data"
    }
   ],
   "source": [
    "\n",
    "j = []\n",
    "for i in range(2001,2014):\n",
    "    df1 = df[df['CAUSE'] == 'Total Salaried']\n",
    "    df1 = df1[df1['Year']== i]\n",
    "    j.append(df1['Grand Total'].sum())\n",
    "plt.plot([2001,2002,2003,2004,2005,2006,2007,2008,2009,2010,2011,2012,2013], j)   "
   ]
  },
  {
   "cell_type": "code",
   "execution_count": 122,
   "metadata": {},
   "outputs": [
    {
     "data": {
      "text/plain": [
       "[<matplotlib.lines.Line2D at 0x13e13a08>]"
      ]
     },
     "execution_count": 122,
     "metadata": {},
     "output_type": "execute_result"
    },
    {
     "data": {
      "image/png": "[encoded data removed]",
      "text/plain": [
       "<Figure size 432x288 with 1 Axes>"
      ]
     },
     "metadata": {
      "needs_background": "light"
     },
     "output_type": "display_data"
    }
   ],
   "source": [
    "\n",
    "j = []\n",
    "for i in range(2001,2014):\n",
    "    df1 = df[df['CAUSE'] == 'Total Self-employed']\n",
    "    df1 = df1[df1['Year']== i]\n",
    "    j.append(df1['Grand Total'].sum())\n",
    "plt.plot([2001,2002,2003,2004,2005,2006,2007,2008,2009,2010,2011,2012,2013], j)   "
   ]
  },
  {
   "cell_type": "code",
   "execution_count": null,
   "metadata": {},
   "outputs": [],
   "source": []
  }
 ],
 "metadata": {
  "kernelspec": {
   "display_name": "Python 3",
   "language": "python",
   "name": "python3"
  },
  "language_info": {
   "codemirror_mode": {
    "name": "ipython",
    "version": 3
   },
   "file_extension": ".py",
   "mimetype": "text/x-python",
   "name": "python",
   "nbconvert_exporter": "python",
   "pygments_lexer": "ipython3",
   "version": "3.7.4"
  }
 },
 "nbformat": 4,
 "nbformat_minor": 2
}
